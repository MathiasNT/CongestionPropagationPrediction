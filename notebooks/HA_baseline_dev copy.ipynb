{
 "cells": [
  {
   "cell_type": "code",
   "execution_count": 1,
   "metadata": {},
   "outputs": [],
   "source": [
    "%load_ext autoreload\n",
    "%autoreload 2\n"
   ]
  },
  {
   "cell_type": "code",
   "execution_count": 2,
   "metadata": {},
   "outputs": [],
   "source": [
    "import sumolib\n",
    "import sys\n",
    "import json\n",
    "import matplotlib.pyplot as plt\n",
    "import numpy as np\n",
    "import torch\n",
    "\n",
    "sys.path.append('..')\n",
    "from util_folder.ml_utils.data_utils.data_loader_utils import IncidentDataModule"
   ]
  },
  {
   "cell_type": "code",
   "execution_count": 13,
   "metadata": {},
   "outputs": [
    {
     "name": "stdout",
     "output_type": "stream",
     "text": [
      "*** DATA SUMMARY: ***\n",
      "input_obs_full.shape=torch.Size([10270, 147, 6, 15, 3])\n",
      "input_time_full.shape=torch.Size([10270, 147, 6, 15, 2])\n",
      "target_full.shape=torch.Size([10270, 147, 4])\n",
      "incident_info_full.shape=torch.Size([10270, 4])\n",
      "network_info_full.shape=torch.Size([10270, 147, 13])\n",
      "\n"
     ]
    }
   ],
   "source": [
    "\n",
    "# Load net and dataset info\n",
    "folder_path = f'../Simulation_scenarios/motorway/Results/incident_large_long'\n",
    "incident_data_module = IncidentDataModule(folder_path = folder_path, transform='standardize', batch_size = 100, spatial_test=True)\n",
    "incident_data_module.setup()\n",
    "train_dataloader = incident_data_module.train_dataloader()\n",
    "train_dataset = train_dataloader.dataset\n",
    "val_dataloader = incident_data_module.val_dataloader()\n",
    "val_dataset = val_dataloader.dataset\n",
    "test_dataloader = incident_data_module.test_dataloader()\n",
    "test_dataset = test_dataloader.dataset\n",
    "\n",
    "net_path = '../Simulation_scenarios/motorway/Simulations/Base/network.net.xml'\n",
    "net = sumolib.net.readNet(net_path)\n",
    "\n",
    "with open('../Simulation_scenarios/motorway/Results/incident_large/ind_to_edge.json') as f:\n",
    "    ind_to_edge = json.load(f)"
   ]
  },
  {
   "cell_type": "markdown",
   "metadata": {},
   "source": [
    "# HA Baseline v1\n",
    "* The idea is to find the historical incident that have\n",
    "* * The same incident edge\n",
    "* * The same number of blocked lanes\n",
    "* * The time as close as possible with above constraints\n",
    "* I checked we have at least 3 candidates for each incident in the val set luckily\n",
    "* I'll return zero if no match exists"
   ]
  },
  {
   "cell_type": "code",
   "execution_count": 14,
   "metadata": {},
   "outputs": [],
   "source": [
    "from models.baselines.ha_models import HA_model_v1\n",
    "from torch import nn\n",
    "from torchmetrics import MeanAbsolutePercentageError, Accuracy\n",
    "from torchmetrics.classification import BinaryF1Score\n",
    "from torchmetrics.functional import precision_recall\n",
    "from util_folder.ml_utils.result_utils.metric_utils import masked_mape\n",
    "\n",
    "bce_loss_func = nn.BCEWithLogitsLoss(pos_weight=torch.tensor(25.5191))\n",
    "mse_loss_func = nn.MSELoss()\n",
    "mape_loss_func = MeanAbsolutePercentageError()\n",
    "mae_loss_func = nn.L1Loss()\n",
    "acc_func = Accuracy()\n",
    "f1_func = BinaryF1Score()\n",
    "\n",
    "\n",
    "def calc_metrics(y_hat, y):\n",
    "    assert y_hat.shape == y.shape, \"Shapes do not match\"\n",
    "\n",
    "    metric_dict = {}\n",
    "\n",
    "    metric_dict[f'accuracy'] = acc_func(y_hat[...,0], y[...,0].int())\n",
    "    metric_dict[f'f1'] = f1_func(y_hat[...,0], y[...,0].int())\n",
    "    metric_dict[f'prec'], metric_dict[f'rec'] = precision_recall(y_hat[...,0], y[...,0].int())\n",
    "\n",
    "    # Masked MAPE\n",
    "    metric_dict[f'start_Mmape'] = masked_mape(y_hat[...,1], y[...,1])\n",
    "    metric_dict[f'end_Mmape'] = masked_mape(y_hat[...,2], y[...,2])\n",
    "    metric_dict[f'speed_Mmape'] = masked_mape(y_hat[...,3], y[...,3])\n",
    "\n",
    "    start_loss = mse_loss_func(y_hat[...,1], y[...,1])\n",
    "    end_loss = mse_loss_func(y_hat[...,2], y[...,2])\n",
    "    speed_loss = mse_loss_func(y_hat[...,3], y[...,3])\n",
    "\n",
    "    return metric_dict"
   ]
  },
  {
   "cell_type": "code",
   "execution_count": 15,
   "metadata": {},
   "outputs": [],
   "source": [
    "cur_ie_idx = val_dataset.incident_info[1,0]\n",
    "cur_n_lanes = val_dataset.incident_info[1,1]\n",
    "hist_incident_info = train_dataset.incident_info[:]\n",
    "hist_net_info = train_dataset.network_info[:, :,0]\n",
    "\n",
    "edge_cost = hist_net_info[:,cur_ie_idx.int()].abs()\n",
    "lane_cost = (hist_incident_info[:,1] - cur_n_lanes).abs()\n",
    "combined_cost = edge_cost + lane_cost\n",
    "min_cost = combined_cost.min()\n",
    "combined_mask = combined_cost == min_cost\n",
    "matching_idxs = combined_mask.argwhere()\n",
    "\n",
    "\n",
    "\n",
    "#edge_mask = (hist_incident_info[:,0] == cur_ie_idx)\n",
    "\n",
    "#lane_mask = (hist_incident_info[:,1] == cur_n_lanes)#combined_mask = edge_mask * lane_mask"
   ]
  },
  {
   "cell_type": "code",
   "execution_count": 16,
   "metadata": {},
   "outputs": [
    {
     "data": {
      "text/plain": [
       "5885"
      ]
     },
     "execution_count": 16,
     "metadata": {},
     "output_type": "execute_result"
    }
   ],
   "source": [
    "len(train_dataset)"
   ]
  },
  {
   "cell_type": "code",
   "execution_count": 17,
   "metadata": {},
   "outputs": [
    {
     "data": {
      "text/plain": [
       "{'accuracy': tensor(0.9837),\n",
       " 'f1': tensor(0.7902),\n",
       " 'prec': tensor(0.7589),\n",
       " 'rec': tensor(0.8241),\n",
       " 'start_Mmape': tensor(0.3651),\n",
       " 'end_Mmape': tensor(0.3720),\n",
       " 'speed_Mmape': tensor(0.2408)}"
      ]
     },
     "execution_count": 17,
     "metadata": {},
     "output_type": "execute_result"
    }
   ],
   "source": [
    "ha_model = HA_model_v1(train_dataset, emulated_dataset_size=5885)\n",
    "ha_preds = ha_model.predict_dataset(cur_infos=test_dataset.incident_info,\n",
    "                         cur_input_data=None,\n",
    "                         cur_input_data_time=test_dataset.input_time_data)\n",
    "calc_metrics(y_hat=ha_preds,\n",
    "             y=test_dataset.target_data,\n",
    "             )"
   ]
  },
  {
   "cell_type": "code",
   "execution_count": 18,
   "metadata": {},
   "outputs": [],
   "source": [
    "hist_len = train_dataset.incident_info.shape[0]\n",
    "subset_res_dicts = []\n",
    "subset_lens = []\n",
    "for i in np.arange(0.01,1.01,0.01):\n",
    "    subset_len = np.floor(hist_len * i).astype(int)\n",
    "\n",
    "    ha_model = HA_model_v1(train_dataset, emulated_dataset_size=subset_len)\n",
    "    ha_preds = ha_model.predict_dataset(cur_infos=test_dataset.incident_info,\n",
    "                            cur_input_data=None,\n",
    "                            cur_input_data_time=test_dataset.input_time_data)\n",
    "    subset_res = calc_metrics(y_hat=ha_preds,\n",
    "                y=test_dataset.target_data,\n",
    "                )\n",
    "    \n",
    "    subset_lens.append(subset_len)\n",
    "    subset_res_dicts.append(subset_res)"
   ]
  },
  {
   "cell_type": "code",
   "execution_count": 19,
   "metadata": {},
   "outputs": [],
   "source": [
    "acc_scores = [res['accuracy'] for res in subset_res_dicts]\n",
    "f1_scores = [res['f1'] for res in subset_res_dicts]\n",
    "prec_scores = [res['prec'] for res in subset_res_dicts]\n",
    "rec_scores = [res['rec'] for res in subset_res_dicts]\n",
    "start_Mmape_scores = [res['start_Mmape'] for res in subset_res_dicts]\n",
    "end_Mmape_scores = [res['end_Mmape'] for res in subset_res_dicts]\n",
    "speed_Mmape_scores = [res['speed_Mmape'] for res in subset_res_dicts]"
   ]
  },
  {
   "cell_type": "code",
   "execution_count": 20,
   "metadata": {},
   "outputs": [
    {
     "data": {
      "text/plain": [
       "[(0.0, 1.0), (0.0, 1.0), (0.0, 1.0), (0.0, 1.0)]"
      ]
     },
     "execution_count": 20,
     "metadata": {},
     "output_type": "execute_result"
    },
    {
     "data": {
      "image/png": "[encoded data removed]",
      "text/plain": [
       "<Figure size 1080x216 with 4 Axes>"
      ]
     },
     "metadata": {
      "needs_background": "light"
     },
     "output_type": "display_data"
    }
   ],
   "source": [
    "fig, axs = plt.subplots(1,4, figsize=(15,3))\n",
    "axs[0].plot(acc_scores)\n",
    "axs[1].plot(rec_scores)\n",
    "axs[2].plot(prec_scores)\n",
    "axs[3].plot(f1_scores)\n",
    "fig.tight_layout()\n",
    "[ax.set_ylim(0,1) for ax in axs]"
   ]
  },
  {
   "cell_type": "code",
   "execution_count": null,
   "metadata": {},
   "outputs": [],
   "source": []
  },
  {
   "cell_type": "code",
   "execution_count": null,
   "metadata": {},
   "outputs": [],
   "source": []
  },
  {
   "cell_type": "code",
   "execution_count": null,
   "metadata": {},
   "outputs": [],
   "source": []
  },
  {
   "cell_type": "code",
   "execution_count": 24,
   "metadata": {},
   "outputs": [
    {
     "data": {
      "text/plain": [
       "{'accuracy': tensor(0.9837),\n",
       " 'f1': tensor(0.7902),\n",
       " 'prec': tensor(0.7589),\n",
       " 'rec': tensor(0.8241),\n",
       " 'start_Mmape': tensor(0.3651),\n",
       " 'end_Mmape': tensor(0.3720),\n",
       " 'speed_Mmape': tensor(0.2408)}"
      ]
     },
     "execution_count": 24,
     "metadata": {},
     "output_type": "execute_result"
    }
   ],
   "source": [
    "ha_model = HA_model_v1(train_dataset, emulated_dataset_size=5885)\n",
    "ha_preds = ha_model.predict_dataset(cur_infos=test_dataset.incident_info,\n",
    "                         cur_input_data=None,\n",
    "                         cur_input_data_time=test_dataset.input_time_data)\n",
    "calc_metrics(y_hat=ha_preds,\n",
    "             y=test_dataset.target_data,\n",
    "             )"
   ]
  },
  {
   "cell_type": "code",
   "execution_count": null,
   "metadata": {},
   "outputs": [],
   "source": []
  },
  {
   "cell_type": "code",
   "execution_count": null,
   "metadata": {},
   "outputs": [],
   "source": []
  },
  {
   "cell_type": "code",
   "execution_count": null,
   "metadata": {},
   "outputs": [],
   "source": []
  },
  {
   "cell_type": "code",
   "execution_count": null,
   "metadata": {},
   "outputs": [],
   "source": [
    "len = 2054"
   ]
  },
  {
   "cell_type": "code",
   "execution_count": null,
   "metadata": {},
   "outputs": [
    {
     "data": {
      "text/plain": [
       "array([1164,  276,  792,   44, 1908, 1973, 1699, 1480,  478,  411,  436,\n",
       "       1623,    4, 1736, 1546, 2024,  143,  505,  290, 1270, 1323, 1167,\n",
       "        604, 1168, 1750, 1843,  923, 1494, 1725, 1478, 1913, 1504, 1240,\n",
       "       1365,  535,  187, 1461, 1715,  597,  875, 1006,   51, 1335,  753,\n",
       "        531,  534,   86, 1872,  540,   35, 1165,  246, 1173, 1596,  648,\n",
       "        151, 1037,  662, 1169,  959, 1507,  100,  236,   61, 1918, 1948,\n",
       "       1030, 1819,  913, 1063,  152, 1104, 1771,  322, 1284, 1891, 1236,\n",
       "         34,  270,  132,  126, 1785, 1957, 1182,  317,  895,   64,   22,\n",
       "        200,  251,  159,  864, 1393,  901, 1470, 1149, 2049, 1363,  629,\n",
       "        407])"
      ]
     },
     "execution_count": 57,
     "metadata": {},
     "output_type": "execute_result"
    }
   ],
   "source": [
    "np.random.choice(np.arange(len), size=100, replace=False)"
   ]
  },
  {
   "cell_type": "code",
   "execution_count": null,
   "metadata": {},
   "outputs": [],
   "source": [
    "np.random.choice()"
   ]
  },
  {
   "cell_type": "code",
   "execution_count": null,
   "metadata": {},
   "outputs": [],
   "source": [
    "\n",
    "best_indexes = [find_best_hist_inci(idx, val_dataset) for idx in range(val_dataset.incident_info.shape[0]) ]"
   ]
  },
  {
   "cell_type": "code",
   "execution_count": null,
   "metadata": {},
   "outputs": [
    {
     "data": {
      "image/png": "[encoded data removed]",
      "text/plain": [
       "<Figure size 432x288 with 1 Axes>"
      ]
     },
     "metadata": {
      "needs_background": "light"
     },
     "output_type": "display_data"
    }
   ],
   "source": [
    "plt.hist(np.stack(best_indexes), bins=100);"
   ]
  },
  {
   "cell_type": "code",
   "execution_count": null,
   "metadata": {},
   "outputs": [
    {
     "data": {
      "text/plain": [
       "tensor([[[  0.0000,   0.0000,   0.0000,   0.0000],\n",
       "         [  0.0000,   0.0000,   0.0000,   0.0000],\n",
       "         [  0.0000,   0.0000,   0.0000,   0.0000],\n",
       "         ...,\n",
       "         [  0.0000,   0.0000,   0.0000,   0.0000],\n",
       "         [  0.0000,   0.0000,   0.0000,   0.0000],\n",
       "         [  0.0000,   0.0000,   0.0000,   0.0000]],\n",
       "\n",
       "        [[  0.0000,   0.0000,   0.0000,   0.0000],\n",
       "         [  0.0000,   0.0000,   0.0000,   0.0000],\n",
       "         [  0.0000,   0.0000,   0.0000,   0.0000],\n",
       "         ...,\n",
       "         [  0.0000,   0.0000,   0.0000,   0.0000],\n",
       "         [  0.0000,   0.0000,   0.0000,   0.0000],\n",
       "         [  0.0000,   0.0000,   0.0000,   0.0000]],\n",
       "\n",
       "        [[  0.0000,   0.0000,   0.0000,   0.0000],\n",
       "         [  0.0000,   0.0000,   0.0000,   0.0000],\n",
       "         [  0.0000,   0.0000,   0.0000,   0.0000],\n",
       "         ...,\n",
       "         [  0.0000,   0.0000,   0.0000,   0.0000],\n",
       "         [  0.0000,   0.0000,   0.0000,   0.0000],\n",
       "         [  0.0000,   0.0000,   0.0000,   0.0000]],\n",
       "\n",
       "        ...,\n",
       "\n",
       "        [[  0.0000,   0.0000,   0.0000,   0.0000],\n",
       "         [  0.0000,   0.0000,   0.0000,   0.0000],\n",
       "         [  0.0000,   0.0000,   0.0000,   0.0000],\n",
       "         ...,\n",
       "         [  0.0000,   0.0000,   0.0000,   0.0000],\n",
       "         [  0.0000,   0.0000,   0.0000,   0.0000],\n",
       "         [  0.0000,   0.0000,   0.0000,   0.0000]],\n",
       "\n",
       "        [[  0.0000,   0.0000,   0.0000,   0.0000],\n",
       "         [  0.0000,   0.0000,   0.0000,   0.0000],\n",
       "         [  0.0000,   0.0000,   0.0000,   0.0000],\n",
       "         ...,\n",
       "         [  0.0000,   0.0000,   0.0000,   0.0000],\n",
       "         [  0.0000,   0.0000,   0.0000,   0.0000],\n",
       "         [  0.0000,   0.0000,   0.0000,   0.0000]],\n",
       "\n",
       "        [[  0.0000,   0.0000,   0.0000,   0.0000],\n",
       "         [  0.0000,   0.0000,   0.0000,   0.0000],\n",
       "         [  1.0000,  18.0000,  51.0000, -25.3900],\n",
       "         ...,\n",
       "         [  0.0000,   0.0000,   0.0000,   0.0000],\n",
       "         [  0.0000,   0.0000,   0.0000,   0.0000],\n",
       "         [  0.0000,   0.0000,   0.0000,   0.0000]]])"
      ]
     },
     "execution_count": 27,
     "metadata": {},
     "output_type": "execute_result"
    }
   ],
   "source": [
    "train_dataset.target_data[best_indexes]"
   ]
  },
  {
   "cell_type": "code",
   "execution_count": null,
   "metadata": {},
   "outputs": [
    {
     "data": {
      "text/plain": [
       "1551"
      ]
     },
     "execution_count": 51,
     "metadata": {},
     "output_type": "execute_result"
    }
   ],
   "source": [
    "# We select a random incident\n",
    "inc_idx = np.random.randint(val_dataset.incident_info.shape[0])\n",
    "inc_idx"
   ]
  },
  {
   "cell_type": "code",
   "execution_count": null,
   "metadata": {},
   "outputs": [],
   "source": [
    "target_inc_info = val_dataset.incident_info[inc_idx]\n",
    "target_ie_idx = target_inc_info[0].int()\n",
    "target_n_lanes = target_inc_info[1].int()\n",
    "target_zone_speed = target_inc_info[2].int()\n",
    "target_block_dur = target_inc_info[3].int()\n",
    "target_ie_time = val_dataset.input_data_time[inc_idx,0,0,14,:]"
   ]
  },
  {
   "cell_type": "code",
   "execution_count": null,
   "metadata": {},
   "outputs": [],
   "source": []
  },
  {
   "cell_type": "code",
   "execution_count": null,
   "metadata": {},
   "outputs": [],
   "source": []
  },
  {
   "cell_type": "code",
   "execution_count": null,
   "metadata": {},
   "outputs": [],
   "source": [
    "val_dataset.incidj"
   ]
  },
  {
   "cell_type": "code",
   "execution_count": null,
   "metadata": {},
   "outputs": [],
   "source": []
  },
  {
   "cell_type": "code",
   "execution_count": null,
   "metadata": {},
   "outputs": [
    {
     "data": {
      "text/plain": [
       "torch.Size([2054])"
      ]
     },
     "execution_count": 118,
     "metadata": {},
     "output_type": "execute_result"
    }
   ],
   "source": [
    "best_indexes.shape"
   ]
  },
  {
   "cell_type": "code",
   "execution_count": null,
   "metadata": {},
   "outputs": [
    {
     "data": {
      "text/plain": [
       "torch.Size([2054, 4])"
      ]
     },
     "execution_count": 98,
     "metadata": {},
     "output_type": "execute_result"
    }
   ],
   "source": [
    "val_dataset.incident_info.shape"
   ]
  },
  {
   "cell_type": "code",
   "execution_count": null,
   "metadata": {},
   "outputs": [
    {
     "data": {
      "text/plain": [
       "torch.Size([2054, 147, 6, 15, 2])"
      ]
     },
     "execution_count": 99,
     "metadata": {},
     "output_type": "execute_result"
    }
   ],
   "source": [
    "val_dataset.input_data_time.shape"
   ]
  },
  {
   "cell_type": "code",
   "execution_count": null,
   "metadata": {},
   "outputs": [],
   "source": [
    "combined_mask = find_best_hist_inci(inc_idx)"
   ]
  },
  {
   "cell_type": "code",
   "execution_count": null,
   "metadata": {},
   "outputs": [],
   "source": [
    "train_ie_times = train_dataset.input_data_time[:,0,0,14,:]"
   ]
  },
  {
   "cell_type": "code",
   "execution_count": null,
   "metadata": {},
   "outputs": [],
   "source": [
    "matching_ie_times = train_ie_times[combined_mask]\n"
   ]
  },
  {
   "cell_type": "code",
   "execution_count": null,
   "metadata": {},
   "outputs": [
    {
     "data": {
      "text/plain": [
       "<matplotlib.collections.PathCollection at 0x7f914e5db970>"
      ]
     },
     "execution_count": 110,
     "metadata": {},
     "output_type": "execute_result"
    },
    {
     "data": {
      "image/png": "[encoded data removed]",
      "text/plain": [
       "<Figure size 432x288 with 1 Axes>"
      ]
     },
     "metadata": {
      "needs_background": "light"
     },
     "output_type": "display_data"
    }
   ],
   "source": [
    "plt.scatter(matching_ie_times[:,0], matching_ie_times[:,1])\n",
    "plt.scatter(target_ie_time[0], target_ie_time[1])\n",
    "plt.scatter(matching_ie_times[33,0], matching_ie_times[33,1])"
   ]
  },
  {
   "cell_type": "code",
   "execution_count": null,
   "metadata": {},
   "outputs": [],
   "source": [
    "time_dists = torch.tensor([torch.linalg.vector_norm(target_ie_time - ie_time) for ie_time in matching_ie_times])"
   ]
  },
  {
   "cell_type": "code",
   "execution_count": null,
   "metadata": {},
   "outputs": [
    {
     "data": {
      "text/plain": [
       "tensor(33)"
      ]
     },
     "execution_count": 109,
     "metadata": {},
     "output_type": "execute_result"
    }
   ],
   "source": [
    "time_dists.argmin()"
   ]
  },
  {
   "cell_type": "code",
   "execution_count": null,
   "metadata": {},
   "outputs": [
    {
     "data": {
      "text/plain": [
       "tensor(3)"
      ]
     },
     "execution_count": 50,
     "metadata": {},
     "output_type": "execute_result"
    }
   ],
   "source": [
    "torch.stack([find_best_hist_inci(idx) for idx in range(val_dataset.incident_info.shape[0])]"
   ]
  },
  {
   "cell_type": "code",
   "execution_count": null,
   "metadata": {},
   "outputs": [
    {
     "data": {
      "text/plain": [
       "tensor(2.8284)"
      ]
     },
     "execution_count": 88,
     "metadata": {},
     "output_type": "execute_result"
    }
   ],
   "source": [
    "torch.linalg.vector_norm(torch.tensor([2.,0.]) + torch.tensor([0.,2.]), ord=2)"
   ]
  },
  {
   "cell_type": "code",
   "execution_count": null,
   "metadata": {},
   "outputs": [
    {
     "data": {
      "text/plain": [
       "2.8284271247461903"
      ]
     },
     "execution_count": 89,
     "metadata": {},
     "output_type": "execute_result"
    }
   ],
   "source": [
    "np.sqrt(8)"
   ]
  },
  {
   "cell_type": "code",
   "execution_count": null,
   "metadata": {},
   "outputs": [],
   "source": []
  }
 ],
 "metadata": {
  "kernelspec": {
   "display_name": "Python 3.8.10 ('env_quick')",
   "language": "python",
   "name": "python3"
  },
  "language_info": {
   "codemirror_mode": {
    "name": "ipython",
    "version": 3
   },
   "file_extension": ".py",
   "mimetype": "text/x-python",
   "name": "python",
   "nbconvert_exporter": "python",
   "pygments_lexer": "ipython3",
   "version": "3.8.10"
  },
  "orig_nbformat": 4,
  "vscode": {
   "interpreter": {
    "hash": "a98148271ae12b089ac623782357ec53fcf3ff4b348e20d09619b786609516cc"
   }
  }
 },
 "nbformat": 4,
 "nbformat_minor": 2
}
