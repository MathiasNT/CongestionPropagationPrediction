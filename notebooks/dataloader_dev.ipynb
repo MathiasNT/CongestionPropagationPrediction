{
 "cells": [
  {
   "cell_type": "markdown",
   "id": "00ae293e-3b4e-4040-968a-1e2e44329f4c",
   "metadata": {},
   "source": [
    "# Dev Notebook for dataloader"
   ]
  },
  {
   "cell_type": "code",
   "execution_count": 1,
   "id": "066b4852-3ff2-49ec-bdf2-634f46cc7ed4",
   "metadata": {},
   "outputs": [],
   "source": [
    "%load_ext autoreload\n",
    "%autoreload 2"
   ]
  },
  {
   "cell_type": "code",
   "execution_count": 2,
   "id": "648db7a5-1e6c-486f-b8b0-389fc2c095bf",
   "metadata": {},
   "outputs": [],
   "source": [
    "import sys\n",
    "sys.path.append('..')"
   ]
  },
  {
   "cell_type": "code",
   "execution_count": 3,
   "id": "89489bbc-2e45-4b67-9b95-115343a08360",
   "metadata": {},
   "outputs": [],
   "source": [
    "import os\n",
    "import glob\n",
    "import json\n",
    "import pandas as pd\n",
    "from tqdm import tqdm\n",
    "import numpy as np\n",
    "\n",
    "#import ray\n",
    "#ray.init()\n",
    "\n",
    "#from result_utils.results_utils import xml2csv_path\n",
    "\n",
    "#import matplotlib.pyplot as plt\n",
    "\n",
    "\n",
    "#from result_utils.dotdict import dotdict\n",
    "#from matplotlib.collections import LineCollection "
   ]
  },
  {
   "cell_type": "markdown",
   "id": "598db251-7821-4917-bd86-c8af853557c2",
   "metadata": {},
   "source": [
    "## Select experiment"
   ]
  },
  {
   "cell_type": "code",
   "execution_count": 4,
   "id": "b131836f-652e-47da-9587-e3aecee1f29d",
   "metadata": {},
   "outputs": [
    {
     "name": "stdout",
     "output_type": "stream",
     "text": [
      "380 simulations\n"
     ]
    }
   ],
   "source": [
    "scenario = 'motorway'\n",
    "experiment_name = 'incident1'\n",
    "path = f'../{scenario}/Results/{experiment_name}'\n",
    "\n",
    "result_folders = os.listdir(path)\n",
    "print(f'{len(result_folders)} simulations')\n",
    "\n",
    "simulation_folders = [folder for folder in result_folders if folder.startswith(experiment_name)]"
   ]
  },
  {
   "cell_type": "code",
   "execution_count": 5,
   "id": "e528f619-b717-447a-9152-8de545656c46",
   "metadata": {},
   "outputs": [],
   "source": [
    "# Check for uncaught errors \n",
    "error_folders = []\n",
    "for folder in simulation_folders:\n",
    "    folder_dir = os.listdir(f'{path}/{folder}')\n",
    "    if len(folder_dir) != 11:\n",
    "        print(f'{folder} is missing files it has only {len(folder_dir)}')\n",
    "        error_folders.append(folder)\n",
    "    \n",
    "    error_logs = [file for file in glob.glob(f'{path}/{folder}/*.err')]\n",
    "    for log in error_logs:\n",
    "        with open(log, 'r') as read_obj:\n",
    "            one_char = read_obj.read(1)\n",
    "            if one_char:\n",
    "                print(f'{folder} has error in {log}')\n",
    "                error_folders.append(folder)\n",
    "                "
   ]
  },
  {
   "cell_type": "markdown",
   "id": "7577687e-e7ec-454e-962c-7796b4c31aa1",
   "metadata": {},
   "source": [
    "# Load data"
   ]
  },
  {
   "cell_type": "markdown",
   "id": "431fe140-cb50-4c05-9a14-8e6244806289",
   "metadata": {},
   "source": [
    "### Load simulation data"
   ]
  },
  {
   "cell_type": "code",
   "execution_count": 15,
   "id": "6fbd05ec-4779-41ba-b0d9-71991af2fd2e",
   "metadata": {},
   "outputs": [],
   "source": [
    "from data_utils.data_loader_utils import transform_df_to_tensor"
   ]
  },
  {
   "cell_type": "code",
   "execution_count": 16,
   "id": "97982b6e-2058-47ac-82f6-bc41599b87fb",
   "metadata": {},
   "outputs": [
    {
     "name": "stderr",
     "output_type": "stream",
     "text": [
      "100%|████████████████████████████████████████████████████████████████| 10/10 [00:00<00:00, 25842.91it/s]\n"
     ]
    }
   ],
   "source": [
    "incident_settings_arr = []\n",
    "for simulation in tqdm(simulation_folders[:10]):\n",
    "    simulation_path = f'{path}/{simulation}'\n",
    "    with open(f'{simulation_path}/incident_settings.json') as f:\n",
    "        incident_settings = json.load(f)\n",
    "        incident_settings_arr.append(incident_settings)\n",
    "    \n",
    "\n",
    "    "
   ]
  },
  {
   "cell_type": "code",
   "execution_count": 17,
   "id": "8d876236-1bb5-4bb8-8223-6421c658cb6e",
   "metadata": {},
   "outputs": [],
   "source": [
    "incident_tables_arr = []"
   ]
  },
  {
   "cell_type": "code",
   "execution_count": 18,
   "id": "b42cba20-a971-4cbd-b7f0-8210a81324a9",
   "metadata": {},
   "outputs": [
    {
     "name": "stderr",
     "output_type": "stream",
     "text": [
      "100%|███████████████████████████████████████████████████████████████████| 10/10 [00:11<00:00,  1.15s/it]\n"
     ]
    }
   ],
   "source": [
    "%timeit\n",
    "incident_tables_arr = []\n",
    "for simulation in tqdm(simulation_folders[:10]):\n",
    "    simulation_path = f'{path}/{simulation}'\n",
    "    results_incident = pd.read_csv(f'{simulation_path}/detectordata.csv', sep=';')\n",
    "    if len(results_incident.columns) == 10:\n",
    "        incident_tables_arr.append(transform_df_to_tensor(results_incident))\n",
    "\n"
   ]
  },
  {
   "cell_type": "code",
   "execution_count": 19,
   "id": "faf0df1e-d877-452a-b4f9-04b2b5b3157d",
   "metadata": {},
   "outputs": [
    {
     "name": "stderr",
     "output_type": "stream",
     "text": [
      "100%|███████████████████████████████████████████████████████████████████| 10/10 [00:11<00:00,  1.14s/it]\n"
     ]
    }
   ],
   "source": [
    "counterfactual_tables_arr = []\n",
    "for simulation in tqdm(simulation_folders[:10]):\n",
    "    simulation_path = f'{path}/{simulation}'\n",
    "    counterfactual_incident = pd.read_csv(f'{simulation_path}/detectordata_counterfactual.csv', sep=';')\n",
    "    if len(counterfactual_incident.columns) == 10:\n",
    "        incident_tables_arr.append(transform_df_to_tensor(counterfactual_incident))\n",
    "    else:\n",
    "        print(f'{simulation} is missing rows')"
   ]
  },
  {
   "cell_type": "code",
   "execution_count": null,
   "id": "db907301-a0b7-440a-95c6-90350b8d74d5",
   "metadata": {},
   "outputs": [],
   "source": []
  },
  {
   "cell_type": "code",
   "execution_count": 22,
   "id": "7a23e205-8403-4540-9c68-a055c58ea3e3",
   "metadata": {},
   "outputs": [
    {
     "data": {
      "text/plain": [
       "dict_keys(['slow_zone', 'lc_zone', 'lc_prob_zone', 'slow_zone_speed', 'run_num', 'is_incident', 'is_random', 'random_seed', 'edge', 'lanes', 'pos', 'start_time', 'start_step', 'duration_time', 'duration_steps'])"
      ]
     },
     "execution_count": 22,
     "metadata": {},
     "output_type": "execute_result"
    }
   ],
   "source": [
    "incident_settings_arr[0].keys()"
   ]
  },
  {
   "cell_type": "code",
   "execution_count": null,
   "id": "2d1a5bc9-c568-4c6a-ba14-baeb9cddf2b0",
   "metadata": {},
   "outputs": [],
   "source": []
  },
  {
   "cell_type": "code",
   "execution_count": 26,
   "id": "35e9b466-afc8-4625-bc3e-5f0890e852cf",
   "metadata": {},
   "outputs": [
    {
     "name": "stdout",
     "output_type": "stream",
     "text": [
      "from 18824.0 to 27224.0 w. incident at 20024\n",
      "20024.0\n",
      "from 73896.0 to 82216.0 w. incident at 75096\n",
      "75096.0\n",
      "from 55391.0 to 63911.0 w. incident at 56591\n",
      "56591.0\n",
      "from 15163.0 to 23383.0 w. incident at 16363\n",
      "16363.0\n",
      "from 62457.0 to 70917.0 w. incident at 63657\n",
      "63657.0\n",
      "from 30586.0 to 39046.0 w. incident at 31786\n",
      "31786.0\n",
      "from 82344.0 to 86784.0 w. incident at 83544\n",
      "83544.0\n",
      "from 47012.0 to 55492.0 w. incident at 48212\n",
      "48212.0\n",
      "from 1397.0 to 9637.0 w. incident at 2597\n",
      "2597.0\n",
      "from 75716.0 to 84076.0 w. incident at 76916\n",
      "76916.0\n"
     ]
    }
   ],
   "source": [
    "for i, settings in zip(incident_tables_arr, incident_settings_arr):\n",
    "    print(f'from {i[0,0,0,0]} to {i[0,0,-1,0]} w. incident at {settings[\"start_time\"]}')\n",
    "    print(f'{i[0,0,60,0]}')"
   ]
  },
  {
   "cell_type": "code",
   "execution_count": null,
   "id": "3cc262c2-539c-4a84-b61f-14c9c4fb2b12",
   "metadata": {},
   "outputs": [],
   "source": []
  },
  {
   "cell_type": "code",
   "execution_count": null,
   "id": "cb62bb3f-83a6-4e0b-8094-44d856e18503",
   "metadata": {},
   "outputs": [],
   "source": []
  },
  {
   "cell_type": "markdown",
   "id": "51e61021-a6fe-41ef-9ad5-48a65748a61f",
   "metadata": {},
   "source": [
    "Do the dataframe conversion for the counterfactual as well\n",
    "Make sure the order of edges is always the same\n",
    "\n",
    "Create mask for what data padding\n",
    "Cut data at the incident time\n",
    "create lane feature dataframe\n",
    "Create the output\n",
    "Wrape in pytorch lightning datamodule\n",
    "\n",
    "Send git and update to Rose\n",
    "\n",
    "\n",
    "../motorway/Results/incident1/incident1_380 is a good example of why the counter factual might be needed to create the labels as we have congestion coming without an incident in the end of the data.\n",
    "\n"
   ]
  }
 ],
 "metadata": {
  "kernelspec": {
   "display_name": "Python 3 (ipykernel)",
   "language": "python",
   "name": "python3"
  },
  "language_info": {
   "codemirror_mode": {
    "name": "ipython",
    "version": 3
   },
   "file_extension": ".py",
   "mimetype": "text/x-python",
   "name": "python",
   "nbconvert_exporter": "python",
   "pygments_lexer": "ipython3",
   "version": "3.8.10"
  }
 },
 "nbformat": 4,
 "nbformat_minor": 5
}
