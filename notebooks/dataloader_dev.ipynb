{
 "cells": [
  {
   "cell_type": "markdown",
   "id": "c6eca890-58d9-4ed5-94c4-e376c5ed182b",
   "metadata": {},
   "source": [
    "# Develop dataloader"
   ]
  },
  {
   "cell_type": "code",
   "execution_count": 1,
   "id": "d950595b-5b4d-4eed-bf89-d78814ad6343",
   "metadata": {},
   "outputs": [],
   "source": [
    "import sys\n",
    "sys.path.append('..')"
   ]
  },
  {
   "cell_type": "code",
   "execution_count": 36,
   "id": "380dec31-8ca5-42cc-a9a5-20d0b894e8df",
   "metadata": {},
   "outputs": [],
   "source": [
    "import os\n",
    "import numpy as np\n",
    "import json\n",
    "import torch\n",
    "import matplotlib.pyplot as plt"
   ]
  },
  {
   "cell_type": "code",
   "execution_count": 3,
   "id": "c9b6ab13-c7a7-4fad-be8a-e4690ad649ef",
   "metadata": {},
   "outputs": [],
   "source": [
    "scenario = 'motorway'\n",
    "experiment_name = 'incident3'\n",
    "path = f'../{scenario}/Results/{experiment_name}'"
   ]
  },
  {
   "cell_type": "code",
   "execution_count": 4,
   "id": "8967c334-507c-4bd9-b245-b8e61b659536",
   "metadata": {},
   "outputs": [
    {
     "data": {
      "text/plain": [
       "['ind_to_edge.json',\n",
       " 'inci_data.npy',\n",
       " 'simulations',\n",
       " 'incident_settings.npy',\n",
       " 'target_data.npy',\n",
       " 'input_data.npy',\n",
       " 'counter_data.npy']"
      ]
     },
     "execution_count": 4,
     "metadata": {},
     "output_type": "execute_result"
    }
   ],
   "source": [
    "os.listdir(path)"
   ]
  },
  {
   "cell_type": "code",
   "execution_count": 5,
   "id": "50ce71df-bef6-4054-ab85-fcfe9e392749",
   "metadata": {},
   "outputs": [],
   "source": [
    "#inci_data = np.load(f'{path}/inci_data.npy')\n",
    "input_data = np.load(f'{path}/input_data.npy')\n",
    "target_data = np.load(f'{path}/target_data.npy')\n",
    "#counter_data = np.load(f'{path}/counter_data.npy')"
   ]
  },
  {
   "cell_type": "code",
   "execution_count": 6,
   "id": "4ccde4d1-cf32-422c-9e20-4cc6a87b2333",
   "metadata": {},
   "outputs": [
    {
     "data": {
      "text/plain": [
       "1422"
      ]
     },
     "execution_count": 6,
     "metadata": {},
     "output_type": "execute_result"
    }
   ],
   "source": [
    "len(input_data)"
   ]
  },
  {
   "cell_type": "code",
   "execution_count": 7,
   "id": "ecf9cfcb-ef69-4aa9-8f30-7cc284c7c462",
   "metadata": {},
   "outputs": [
    {
     "name": "stdout",
     "output_type": "stream",
     "text": [
      "1422\n"
     ]
    }
   ],
   "source": [
    "train_len = int(np.ceil(len(input_data) * 0.6))\n",
    "test_val_len = int(np.round((len(input_data) - train_len) * 0.5))\n",
    "print(train_len +  2 * test_val_len)"
   ]
  },
  {
   "cell_type": "code",
   "execution_count": 8,
   "id": "38a4f1d3-ca34-444d-95b1-05d18bb29c45",
   "metadata": {},
   "outputs": [],
   "source": [
    "with open(f'{path}/ind_to_edge.json') as f:\n",
    "    ind_to_edge = json.load(f)"
   ]
  },
  {
   "cell_type": "code",
   "execution_count": 9,
   "id": "49ad08f2-4802-4944-96c8-53f2ec5e0fba",
   "metadata": {},
   "outputs": [],
   "source": [
    "incident_settings = np.load(f'{path}/incident_settings.npy', allow_pickle=True)"
   ]
  },
  {
   "cell_type": "code",
   "execution_count": 10,
   "id": "3667874a-cd39-4656-becb-926c60a30c1c",
   "metadata": {},
   "outputs": [
    {
     "data": {
      "text/plain": [
       "array([{'slow_zone': 70, 'lc_zone': 20, 'lc_prob_zone': 170, 'slow_zone_speed': 13.8, 'run_num': 1577, 'is_incident': True, 'is_random': True, 'random_seed': 137566741, 'edge': '4414080#1-AddedOnRampEdge', 'lanes': [0, 1, 2, 3], 'pos': 36.11108444908973, 'start_time': 73121, 'start_step': 146242, 'duration_time': 1353, 'duration_steps': 2706},\n",
       "       {'slow_zone': 70, 'lc_zone': 20, 'lc_prob_zone': 170, 'slow_zone_speed': 13.8, 'run_num': 1799, 'is_incident': True, 'is_random': True, 'random_seed': 157823407, 'edge': '360361373-AddedOnRampEdge', 'lanes': [0, 1, 2, 3, 4], 'pos': 25.9627094066895, 'start_time': 55705, 'start_step': 111410, 'duration_time': 1200, 'duration_steps': 2400},\n",
       "       {'slow_zone': 70, 'lc_zone': 20, 'lc_prob_zone': 170, 'slow_zone_speed': 13.8, 'run_num': 1161, 'is_incident': True, 'is_random': True, 'random_seed': 1405163169, 'edge': '4402237', 'lanes': [2], 'pos': 49.28923841080593, 'start_time': 2461, 'start_step': 4922, 'duration_time': 1126, 'duration_steps': 2252}],\n",
       "      dtype=object)"
      ]
     },
     "execution_count": 10,
     "metadata": {},
     "output_type": "execute_result"
    }
   ],
   "source": [
    "incident_settings[[10,11,234]]"
   ]
  },
  {
   "cell_type": "code",
   "execution_count": 11,
   "id": "7309329f-900d-4752-9246-b1c6d2182865",
   "metadata": {},
   "outputs": [],
   "source": [
    "from utils.data_utils.data_loader_utils import IncidentDataModule"
   ]
  },
  {
   "cell_type": "code",
   "execution_count": 12,
   "id": "48c94381-cf11-4a33-89f6-44cb1d506408",
   "metadata": {},
   "outputs": [],
   "source": [
    "datamodule = IncidentDataModule()"
   ]
  },
  {
   "cell_type": "code",
   "execution_count": 13,
   "id": "7311b133-53a0-4c3d-ae4f-a83b6dd86c3f",
   "metadata": {},
   "outputs": [],
   "source": [
    "datamodule.setup(path, 0.6)"
   ]
  },
  {
   "cell_type": "code",
   "execution_count": 14,
   "id": "b57d7716-afd7-4200-9a89-ddd4f714c31b",
   "metadata": {},
   "outputs": [],
   "source": [
    "train_dataloader = datamodule.train_dataloader()"
   ]
  },
  {
   "cell_type": "code",
   "execution_count": 20,
   "id": "21df1fb8-731e-4128-93ba-925dbb354c8c",
   "metadata": {},
   "outputs": [],
   "source": [
    "_, batch = next(enumerate(train_dataloader))"
   ]
  },
  {
   "cell_type": "code",
   "execution_count": 16,
   "id": "aab6dca2-668f-432d-b45a-933e4cd2bfe6",
   "metadata": {},
   "outputs": [
    {
     "data": {
      "text/plain": [
       "(854, 147, 6, 10, 5)"
      ]
     },
     "execution_count": 16,
     "metadata": {},
     "output_type": "execute_result"
    }
   ],
   "source": [
    "train_dataloader.dataset.input_data.shape"
   ]
  },
  {
   "cell_type": "code",
   "execution_count": 17,
   "id": "86b6baac-cfda-4954-bfef-c6e6613acdf2",
   "metadata": {},
   "outputs": [
    {
     "data": {
      "text/plain": [
       "(854, 147, 4)"
      ]
     },
     "execution_count": 17,
     "metadata": {},
     "output_type": "execute_result"
    }
   ],
   "source": [
    "train_dataloader.dataset.target_data.shape"
   ]
  },
  {
   "cell_type": "code",
   "execution_count": 18,
   "id": "89035505-19a5-4afe-bdb7-0d26c4b29ed1",
   "metadata": {},
   "outputs": [
    {
     "data": {
      "text/plain": [
       "(854,)"
      ]
     },
     "execution_count": 18,
     "metadata": {},
     "output_type": "execute_result"
    }
   ],
   "source": [
    "train_dataloader.dataset.incident_settings.shape"
   ]
  },
  {
   "cell_type": "code",
   "execution_count": 24,
   "id": "85b5182e-58fb-447e-b6be-62468a6caecc",
   "metadata": {},
   "outputs": [
    {
     "ename": "SyntaxError",
     "evalue": "unexpected EOF while parsing (454346325.py, line 2)",
     "output_type": "error",
     "traceback": [
      "\u001b[0;36m  Input \u001b[0;32mIn [24]\u001b[0;36m\u001b[0m\n\u001b[0;31m    #print(batch)\u001b[0m\n\u001b[0m                 ^\u001b[0m\n\u001b[0;31mSyntaxError\u001b[0m\u001b[0;31m:\u001b[0m unexpected EOF while parsing\n"
     ]
    }
   ],
   "source": [
    "for batch in train_dataloader:\n",
    "    #print(batch)"
   ]
  },
  {
   "cell_type": "code",
   "execution_count": 60,
   "id": "1daf0c86-3277-4895-9864-ad7f3ac057b3",
   "metadata": {},
   "outputs": [
    {
     "data": {
      "text/plain": [
       "torch.Size([32, 147, 6, 5, 10])"
      ]
     },
     "execution_count": 60,
     "metadata": {},
     "output_type": "execute_result"
    }
   ],
   "source": [
    "test2 = batch['input'].permute(0,1,2,4,3)\n",
    "test2.shape"
   ]
  },
  {
   "cell_type": "code",
   "execution_count": 75,
   "id": "d96763e5-68d6-4a69-8ccd-fffd0b4e44c2",
   "metadata": {},
   "outputs": [
    {
     "data": {
      "text/plain": [
       "torch.Size([4704, 10, 30])"
      ]
     },
     "execution_count": 75,
     "metadata": {},
     "output_type": "execute_result"
    }
   ],
   "source": [
    "test = test2.reshape(32 * 147, 5 * 6, 10).permute(0,2,1)\n",
    "\n",
    "test.shape"
   ]
  },
  {
   "cell_type": "code",
   "execution_count": 73,
   "id": "8ea5a7e8-b034-4039-9de5-9bcee87ed067",
   "metadata": {},
   "outputs": [
    {
     "data": {
      "text/plain": [
       "[<matplotlib.lines.Line2D at 0x7efd6d0462e0>]"
      ]
     },
     "execution_count": 73,
     "metadata": {},
     "output_type": "execute_result"
    },
    {
     "data": {
      "image/png": "[encoded data removed]",
      "text/plain": [
       "<Figure size 432x288 with 1 Axes>"
      ]
     },
     "metadata": {
      "needs_background": "light"
     },
     "output_type": "display_data"
    }
   ],
   "source": [
    "plt.plot(test2[1,0,1,1,:])"
   ]
  },
  {
   "cell_type": "code",
   "execution_count": 74,
   "id": "b888283a-2a4e-4a5b-a6c9-51eb94322815",
   "metadata": {},
   "outputs": [
    {
     "data": {
      "text/plain": [
       "[<matplotlib.lines.Line2D at 0x7efd6cf9cb20>]"
      ]
     },
     "execution_count": 74,
     "metadata": {},
     "output_type": "execute_result"
    },
    {
     "data": {
      "image/png": "[encoded data removed]",
      "text/plain": [
       "<Figure size 432x288 with 1 Axes>"
      ]
     },
     "metadata": {
      "needs_background": "light"
     },
     "output_type": "display_data"
    }
   ],
   "source": [
    "plt.plot(test[147,6,:])"
   ]
  },
  {
   "cell_type": "code",
   "execution_count": null,
   "id": "fc6b85ad-38b3-4248-b341-4fa7c11f0ce2",
   "metadata": {},
   "outputs": [],
   "source": []
  }
 ],
 "metadata": {
  "kernelspec": {
   "display_name": "Python 3 (ipykernel)",
   "language": "python",
   "name": "python3"
  },
  "language_info": {
   "codemirror_mode": {
    "name": "ipython",
    "version": 3
   },
   "file_extension": ".py",
   "mimetype": "text/x-python",
   "name": "python",
   "nbconvert_exporter": "python",
   "pygments_lexer": "ipython3",
   "version": "3.8.10"
  }
 },
 "nbformat": 4,
 "nbformat_minor": 5
}
