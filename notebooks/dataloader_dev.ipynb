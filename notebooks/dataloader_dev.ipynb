{
 "cells": [
  {
   "cell_type": "markdown",
   "id": "c6eca890-58d9-4ed5-94c4-e376c5ed182b",
   "metadata": {},
   "source": [
    "# Develop dataloader"
   ]
  },
  {
   "cell_type": "code",
   "execution_count": null,
   "id": "99437730-e984-4fea-80c5-5de125ecb630",
   "metadata": {},
   "outputs": [],
   "source": []
  },
  {
   "cell_type": "code",
   "execution_count": 1,
   "id": "d950595b-5b4d-4eed-bf89-d78814ad6343",
   "metadata": {},
   "outputs": [],
   "source": [
    "import sys\n",
    "sys.path.append('..')"
   ]
  },
  {
   "cell_type": "code",
   "execution_count": 2,
   "id": "380dec31-8ca5-42cc-a9a5-20d0b894e8df",
   "metadata": {},
   "outputs": [],
   "source": [
    "import os\n",
    "import numpy as np\n",
    "import json\n",
    "import torch\n",
    "import matplotlib.pyplot as plt"
   ]
  },
  {
   "cell_type": "code",
   "execution_count": 3,
   "id": "c9b6ab13-c7a7-4fad-be8a-e4690ad649ef",
   "metadata": {},
   "outputs": [],
   "source": [
    "scenario = 'motorway'\n",
    "experiment_name = 'incident3'\n",
    "path = f'../{scenario}/Results/{experiment_name}'"
   ]
  },
  {
   "cell_type": "code",
   "execution_count": 4,
   "id": "8967c334-507c-4bd9-b245-b8e61b659536",
   "metadata": {},
   "outputs": [
    {
     "data": {
      "text/plain": [
       "['ind_to_edge.json',\n",
       " 'inci_data.npy',\n",
       " 'simulations',\n",
       " 'incident_settings.npy',\n",
       " 'target_data.npy',\n",
       " 'input_data.npy',\n",
       " 'counter_data.npy']"
      ]
     },
     "execution_count": 4,
     "metadata": {},
     "output_type": "execute_result"
    }
   ],
   "source": [
    "os.listdir(path)"
   ]
  },
  {
   "cell_type": "code",
   "execution_count": 5,
   "id": "50ce71df-bef6-4054-ab85-fcfe9e392749",
   "metadata": {},
   "outputs": [],
   "source": [
    "#inci_data = np.load(f'{path}/inci_data.npy')\n",
    "input_data = np.load(f'{path}/input_data.npy')\n",
    "target_data = np.load(f'{path}/target_data.npy')\n",
    "#counter_data = np.load(f'{path}/counter_data.npy')"
   ]
  },
  {
   "cell_type": "code",
   "execution_count": 6,
   "id": "4ccde4d1-cf32-422c-9e20-4cc6a87b2333",
   "metadata": {},
   "outputs": [
    {
     "data": {
      "text/plain": [
       "1422"
      ]
     },
     "execution_count": 6,
     "metadata": {},
     "output_type": "execute_result"
    }
   ],
   "source": [
    "len(input_data)"
   ]
  },
  {
   "cell_type": "code",
   "execution_count": 7,
   "id": "ecf9cfcb-ef69-4aa9-8f30-7cc284c7c462",
   "metadata": {},
   "outputs": [
    {
     "name": "stdout",
     "output_type": "stream",
     "text": [
      "1422\n"
     ]
    }
   ],
   "source": [
    "train_len = int(np.ceil(len(input_data) * 0.6))\n",
    "test_val_len = int(np.round((len(input_data) - train_len) * 0.5))\n",
    "print(train_len +  2 * test_val_len)"
   ]
  },
  {
   "cell_type": "code",
   "execution_count": 8,
   "id": "38a4f1d3-ca34-444d-95b1-05d18bb29c45",
   "metadata": {},
   "outputs": [],
   "source": [
    "with open(f'{path}/ind_to_edge.json') as f:\n",
    "    ind_to_edge = json.load(f)"
   ]
  },
  {
   "cell_type": "code",
   "execution_count": 9,
   "id": "49ad08f2-4802-4944-96c8-53f2ec5e0fba",
   "metadata": {},
   "outputs": [],
   "source": [
    "incident_settings = np.load(f'{path}/incident_settings.npy', allow_pickle=True)"
   ]
  },
  {
   "cell_type": "code",
   "execution_count": 18,
   "id": "3667874a-cd39-4656-becb-926c60a30c1c",
   "metadata": {},
   "outputs": [
    {
     "data": {
      "text/plain": [
       "{'slow_zone': 70,\n",
       " 'lc_zone': 20,\n",
       " 'lc_prob_zone': 170,\n",
       " 'slow_zone_speed': 13.8,\n",
       " 'run_num': 1212,\n",
       " 'is_incident': True,\n",
       " 'is_random': True,\n",
       " 'random_seed': 1694451242,\n",
       " 'edge': '4937552#1',\n",
       " 'lanes': [3],\n",
       " 'pos': 289.0570980847665,\n",
       " 'start_time': 26436,\n",
       " 'start_step': 52872,\n",
       " 'duration_time': 1413,\n",
       " 'duration_steps': 2826}"
      ]
     },
     "execution_count": 18,
     "metadata": {},
     "output_type": "execute_result"
    }
   ],
   "source": [
    "incident_settings[0]"
   ]
  },
  {
   "cell_type": "code",
   "execution_count": 11,
   "id": "7309329f-900d-4752-9246-b1c6d2182865",
   "metadata": {},
   "outputs": [],
   "source": [
    "from utils.data_utils.data_loader_utils import IncidentDataModule"
   ]
  },
  {
   "cell_type": "code",
   "execution_count": 12,
   "id": "a1b09fb8-5b32-4851-bfd2-de6384121737",
   "metadata": {},
   "outputs": [
    {
     "data": {
      "text/plain": [
       "147"
      ]
     },
     "execution_count": 12,
     "metadata": {},
     "output_type": "execute_result"
    }
   ],
   "source": [
    "n_nodes = input_data.shape[1]\n",
    "n_nodes"
   ]
  },
  {
   "cell_type": "code",
   "execution_count": null,
   "id": "49ec050c-c8d0-4de2-a5bc-543f47cee94e",
   "metadata": {},
   "outputs": [],
   "source": []
  },
  {
   "cell_type": "code",
   "execution_count": null,
   "id": "fbd6d9d6-db5b-4ede-a969-1faa4ce6b924",
   "metadata": {},
   "outputs": [],
   "source": []
  },
  {
   "cell_type": "code",
   "execution_count": null,
   "id": "c008b007-1d00-4d92-922e-17157d5c1d9e",
   "metadata": {},
   "outputs": [],
   "source": []
  },
  {
   "cell_type": "code",
   "execution_count": 13,
   "id": "48c94381-cf11-4a33-89f6-44cb1d506408",
   "metadata": {},
   "outputs": [],
   "source": [
    "datamodule = IncidentDataModule(path)"
   ]
  },
  {
   "cell_type": "code",
   "execution_count": 14,
   "id": "7311b133-53a0-4c3d-ae4f-a83b6dd86c3f",
   "metadata": {},
   "outputs": [],
   "source": [
    "datamodule.setup()"
   ]
  },
  {
   "cell_type": "code",
   "execution_count": 15,
   "id": "b57d7716-afd7-4200-9a89-ddd4f714c31b",
   "metadata": {},
   "outputs": [],
   "source": [
    "train_dataloader = datamodule.train_dataloader()"
   ]
  },
  {
   "cell_type": "code",
   "execution_count": 16,
   "id": "21df1fb8-731e-4128-93ba-925dbb354c8c",
   "metadata": {},
   "outputs": [
    {
     "ename": "TypeError",
     "evalue": "Caught TypeError in DataLoader worker process 0.\nOriginal Traceback (most recent call last):\n  File \"/home/manity/Quick_adap/env_quick/lib/python3.8/site-packages/torch/utils/data/_utils/worker.py\", line 302, in _worker_loop\n    data = fetcher.fetch(index)\n  File \"/home/manity/Quick_adap/env_quick/lib/python3.8/site-packages/torch/utils/data/_utils/fetch.py\", line 49, in fetch\n    data = [self.dataset[idx] for idx in possibly_batched_index]\n  File \"/home/manity/Quick_adap/env_quick/lib/python3.8/site-packages/torch/utils/data/_utils/fetch.py\", line 49, in <listcomp>\n    data = [self.dataset[idx] for idx in possibly_batched_index]\n  File \"/home/manity/Quick_adap/quick_adap_to_incidents/notebooks/../utils/data_utils/data_loader_utils.py\", line 19, in __getitem__\n    incident_settings_batch = torch.Tensor(self.incident_settings[idx])\nTypeError: new(): data must be a sequence (got dict)\n",
     "output_type": "error",
     "traceback": [
      "\u001b[0;31m---------------------------------------------------------------------------\u001b[0m",
      "\u001b[0;31mTypeError\u001b[0m                                 Traceback (most recent call last)",
      "Input \u001b[0;32mIn [16]\u001b[0m, in \u001b[0;36m<cell line: 1>\u001b[0;34m()\u001b[0m\n\u001b[0;32m----> 1\u001b[0m _, batch \u001b[38;5;241m=\u001b[39m \u001b[38;5;28;43mnext\u001b[39;49m\u001b[43m(\u001b[49m\u001b[38;5;28;43menumerate\u001b[39;49m\u001b[43m(\u001b[49m\u001b[43mtrain_dataloader\u001b[49m\u001b[43m)\u001b[49m\u001b[43m)\u001b[49m\n",
      "File \u001b[0;32m~/Quick_adap/env_quick/lib/python3.8/site-packages/torch/utils/data/dataloader.py:681\u001b[0m, in \u001b[0;36m_BaseDataLoaderIter.__next__\u001b[0;34m(self)\u001b[0m\n\u001b[1;32m    678\u001b[0m \u001b[38;5;28;01mif\u001b[39;00m \u001b[38;5;28mself\u001b[39m\u001b[38;5;241m.\u001b[39m_sampler_iter \u001b[38;5;129;01mis\u001b[39;00m \u001b[38;5;28;01mNone\u001b[39;00m:\n\u001b[1;32m    679\u001b[0m     \u001b[38;5;66;03m# TODO(https://github.com/pytorch/pytorch/issues/76750)\u001b[39;00m\n\u001b[1;32m    680\u001b[0m     \u001b[38;5;28mself\u001b[39m\u001b[38;5;241m.\u001b[39m_reset()  \u001b[38;5;66;03m# type: ignore[call-arg]\u001b[39;00m\n\u001b[0;32m--> 681\u001b[0m data \u001b[38;5;241m=\u001b[39m \u001b[38;5;28;43mself\u001b[39;49m\u001b[38;5;241;43m.\u001b[39;49m\u001b[43m_next_data\u001b[49m\u001b[43m(\u001b[49m\u001b[43m)\u001b[49m\n\u001b[1;32m    682\u001b[0m \u001b[38;5;28mself\u001b[39m\u001b[38;5;241m.\u001b[39m_num_yielded \u001b[38;5;241m+\u001b[39m\u001b[38;5;241m=\u001b[39m \u001b[38;5;241m1\u001b[39m\n\u001b[1;32m    683\u001b[0m \u001b[38;5;28;01mif\u001b[39;00m \u001b[38;5;28mself\u001b[39m\u001b[38;5;241m.\u001b[39m_dataset_kind \u001b[38;5;241m==\u001b[39m _DatasetKind\u001b[38;5;241m.\u001b[39mIterable \u001b[38;5;129;01mand\u001b[39;00m \\\n\u001b[1;32m    684\u001b[0m         \u001b[38;5;28mself\u001b[39m\u001b[38;5;241m.\u001b[39m_IterableDataset_len_called \u001b[38;5;129;01mis\u001b[39;00m \u001b[38;5;129;01mnot\u001b[39;00m \u001b[38;5;28;01mNone\u001b[39;00m \u001b[38;5;129;01mand\u001b[39;00m \\\n\u001b[1;32m    685\u001b[0m         \u001b[38;5;28mself\u001b[39m\u001b[38;5;241m.\u001b[39m_num_yielded \u001b[38;5;241m>\u001b[39m \u001b[38;5;28mself\u001b[39m\u001b[38;5;241m.\u001b[39m_IterableDataset_len_called:\n",
      "File \u001b[0;32m~/Quick_adap/env_quick/lib/python3.8/site-packages/torch/utils/data/dataloader.py:1376\u001b[0m, in \u001b[0;36m_MultiProcessingDataLoaderIter._next_data\u001b[0;34m(self)\u001b[0m\n\u001b[1;32m   1374\u001b[0m \u001b[38;5;28;01melse\u001b[39;00m:\n\u001b[1;32m   1375\u001b[0m     \u001b[38;5;28;01mdel\u001b[39;00m \u001b[38;5;28mself\u001b[39m\u001b[38;5;241m.\u001b[39m_task_info[idx]\n\u001b[0;32m-> 1376\u001b[0m     \u001b[38;5;28;01mreturn\u001b[39;00m \u001b[38;5;28;43mself\u001b[39;49m\u001b[38;5;241;43m.\u001b[39;49m\u001b[43m_process_data\u001b[49m\u001b[43m(\u001b[49m\u001b[43mdata\u001b[49m\u001b[43m)\u001b[49m\n",
      "File \u001b[0;32m~/Quick_adap/env_quick/lib/python3.8/site-packages/torch/utils/data/dataloader.py:1402\u001b[0m, in \u001b[0;36m_MultiProcessingDataLoaderIter._process_data\u001b[0;34m(self, data)\u001b[0m\n\u001b[1;32m   1400\u001b[0m \u001b[38;5;28mself\u001b[39m\u001b[38;5;241m.\u001b[39m_try_put_index()\n\u001b[1;32m   1401\u001b[0m \u001b[38;5;28;01mif\u001b[39;00m \u001b[38;5;28misinstance\u001b[39m(data, ExceptionWrapper):\n\u001b[0;32m-> 1402\u001b[0m     \u001b[43mdata\u001b[49m\u001b[38;5;241;43m.\u001b[39;49m\u001b[43mreraise\u001b[49m\u001b[43m(\u001b[49m\u001b[43m)\u001b[49m\n\u001b[1;32m   1403\u001b[0m \u001b[38;5;28;01mreturn\u001b[39;00m data\n",
      "File \u001b[0;32m~/Quick_adap/env_quick/lib/python3.8/site-packages/torch/_utils.py:461\u001b[0m, in \u001b[0;36mExceptionWrapper.reraise\u001b[0;34m(self)\u001b[0m\n\u001b[1;32m    457\u001b[0m \u001b[38;5;28;01mexcept\u001b[39;00m \u001b[38;5;167;01mTypeError\u001b[39;00m:\n\u001b[1;32m    458\u001b[0m     \u001b[38;5;66;03m# If the exception takes multiple arguments, don't try to\u001b[39;00m\n\u001b[1;32m    459\u001b[0m     \u001b[38;5;66;03m# instantiate since we don't know how to\u001b[39;00m\n\u001b[1;32m    460\u001b[0m     \u001b[38;5;28;01mraise\u001b[39;00m \u001b[38;5;167;01mRuntimeError\u001b[39;00m(msg) \u001b[38;5;28;01mfrom\u001b[39;00m \u001b[38;5;28mNone\u001b[39m\n\u001b[0;32m--> 461\u001b[0m \u001b[38;5;28;01mraise\u001b[39;00m exception\n",
      "\u001b[0;31mTypeError\u001b[0m: Caught TypeError in DataLoader worker process 0.\nOriginal Traceback (most recent call last):\n  File \"/home/manity/Quick_adap/env_quick/lib/python3.8/site-packages/torch/utils/data/_utils/worker.py\", line 302, in _worker_loop\n    data = fetcher.fetch(index)\n  File \"/home/manity/Quick_adap/env_quick/lib/python3.8/site-packages/torch/utils/data/_utils/fetch.py\", line 49, in fetch\n    data = [self.dataset[idx] for idx in possibly_batched_index]\n  File \"/home/manity/Quick_adap/env_quick/lib/python3.8/site-packages/torch/utils/data/_utils/fetch.py\", line 49, in <listcomp>\n    data = [self.dataset[idx] for idx in possibly_batched_index]\n  File \"/home/manity/Quick_adap/quick_adap_to_incidents/notebooks/../utils/data_utils/data_loader_utils.py\", line 19, in __getitem__\n    incident_settings_batch = torch.Tensor(self.incident_settings[idx])\nTypeError: new(): data must be a sequence (got dict)\n"
     ]
    }
   ],
   "source": [
    "_, batch = next(enumerate(train_dataloader))"
   ]
  },
  {
   "cell_type": "code",
   "execution_count": null,
   "id": "aab6dca2-668f-432d-b45a-933e4cd2bfe6",
   "metadata": {},
   "outputs": [],
   "source": [
    "train_dataloader.dataset.input_data.shape"
   ]
  },
  {
   "cell_type": "code",
   "execution_count": null,
   "id": "86b6baac-cfda-4954-bfef-c6e6613acdf2",
   "metadata": {},
   "outputs": [],
   "source": [
    "train_dataloader.dataset.target_data.shape"
   ]
  },
  {
   "cell_type": "code",
   "execution_count": null,
   "id": "89035505-19a5-4afe-bdb7-0d26c4b29ed1",
   "metadata": {},
   "outputs": [],
   "source": [
    "train_dataloader.dataset.incident_settings.shape"
   ]
  },
  {
   "cell_type": "code",
   "execution_count": null,
   "id": "6d97a27a-f917-4f8f-a3b7-d5d34db0a809",
   "metadata": {},
   "outputs": [],
   "source": [
    "train_dataloader.dataset.incident_settings"
   ]
  },
  {
   "cell_type": "code",
   "execution_count": null,
   "id": "85b5182e-58fb-447e-b6be-62468a6caecc",
   "metadata": {},
   "outputs": [],
   "source": [
    "for batch in train_dataloader:\n",
    "    print(batch)"
   ]
  },
  {
   "cell_type": "code",
   "execution_count": null,
   "id": "1daf0c86-3277-4895-9864-ad7f3ac057b3",
   "metadata": {},
   "outputs": [],
   "source": [
    "test2 = batch['input'].permute(0,1,2,4,3)\n",
    "test2.shape"
   ]
  },
  {
   "cell_type": "code",
   "execution_count": null,
   "id": "d96763e5-68d6-4a69-8ccd-fffd0b4e44c2",
   "metadata": {},
   "outputs": [],
   "source": [
    "test = test2.reshape(32 * 147, 5 * 6, 10).permute(0,2,1)\n",
    "\n",
    "test.shape"
   ]
  },
  {
   "cell_type": "code",
   "execution_count": null,
   "id": "8ea5a7e8-b034-4039-9de5-9bcee87ed067",
   "metadata": {},
   "outputs": [],
   "source": [
    "plt.plot(test2[1,0,1,1,:])"
   ]
  },
  {
   "cell_type": "code",
   "execution_count": null,
   "id": "b888283a-2a4e-4a5b-a6c9-51eb94322815",
   "metadata": {},
   "outputs": [],
   "source": [
    "plt.plot(test[147,6,:])"
   ]
  },
  {
   "cell_type": "code",
   "execution_count": null,
   "id": "fc6b85ad-38b3-4248-b341-4fa7c11f0ce2",
   "metadata": {},
   "outputs": [],
   "source": []
  }
 ],
 "metadata": {
  "kernelspec": {
   "display_name": "Python 3 (ipykernel)",
   "language": "python",
   "name": "python3"
  },
  "language_info": {
   "codemirror_mode": {
    "name": "ipython",
    "version": 3
   },
   "file_extension": ".py",
   "mimetype": "text/x-python",
   "name": "python",
   "nbconvert_exporter": "python",
   "pygments_lexer": "ipython3",
   "version": "3.8.10"
  }
 },
 "nbformat": 4,
 "nbformat_minor": 5
}
