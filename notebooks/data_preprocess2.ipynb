{
 "cells": [
  {
   "cell_type": "code",
   "execution_count": 1,
   "metadata": {},
   "outputs": [],
   "source": [
    "import pandas as pd\n",
    "import numpy as np\n",
    "import json"
   ]
  },
  {
   "cell_type": "code",
   "execution_count": 2,
   "metadata": {},
   "outputs": [],
   "source": [
    "path = '/mnt/raid1/manity/partial_storage/folder_full_run/'\n",
    "target_path = '../Simulation_scenarios/motorway/Results/folder_full_run/'"
   ]
  },
  {
   "cell_type": "code",
   "execution_count": 5,
   "metadata": {},
   "outputs": [
    {
     "ename": "FileNotFoundError",
     "evalue": "[Errno 2] No such file or directory: '../Simulation_scenarios/motorway/Results/folder_big_run/input_data1.npy'",
     "output_type": "error",
     "traceback": [
      "\u001b[0;31m---------------------------------------------------------------------------\u001b[0m",
      "\u001b[0;31mFileNotFoundError\u001b[0m                         Traceback (most recent call last)",
      "Cell \u001b[0;32mIn [5], line 3\u001b[0m\n\u001b[1;32m      1\u001b[0m input_data_arr \u001b[39m=\u001b[39m []\n\u001b[1;32m      2\u001b[0m \u001b[39mfor\u001b[39;00m i \u001b[39min\u001b[39;00m \u001b[39mrange\u001b[39m(\u001b[39m1\u001b[39m,\u001b[39m6\u001b[39m):\n\u001b[0;32m----> 3\u001b[0m     input_data_arr\u001b[39m.\u001b[39mappend(np\u001b[39m.\u001b[39;49mload(\u001b[39mf\u001b[39;49m\u001b[39m'\u001b[39;49m\u001b[39m{\u001b[39;49;00mpath\u001b[39m}\u001b[39;49;00m\u001b[39m/input_data\u001b[39;49m\u001b[39m{\u001b[39;49;00mi\u001b[39m}\u001b[39;49;00m\u001b[39m.npy\u001b[39;49m\u001b[39m'\u001b[39;49m))\n\u001b[1;32m      4\u001b[0m input_data \u001b[39m=\u001b[39m np\u001b[39m.\u001b[39mconcatenate(input_data_arr)\n\u001b[1;32m      5\u001b[0m np\u001b[39m.\u001b[39msave(\u001b[39mf\u001b[39m\u001b[39m'\u001b[39m\u001b[39m{\u001b[39;00mtarget_path\u001b[39m}\u001b[39;00m\u001b[39m/input_data.npy\u001b[39m\u001b[39m'\u001b[39m, input_data)\n",
      "File \u001b[0;32m~/Quick_adap/env_quick/lib/python3.8/site-packages/numpy/lib/npyio.py:390\u001b[0m, in \u001b[0;36mload\u001b[0;34m(file, mmap_mode, allow_pickle, fix_imports, encoding)\u001b[0m\n\u001b[1;32m    388\u001b[0m     own_fid \u001b[39m=\u001b[39m \u001b[39mFalse\u001b[39;00m\n\u001b[1;32m    389\u001b[0m \u001b[39melse\u001b[39;00m:\n\u001b[0;32m--> 390\u001b[0m     fid \u001b[39m=\u001b[39m stack\u001b[39m.\u001b[39menter_context(\u001b[39mopen\u001b[39;49m(os_fspath(file), \u001b[39m\"\u001b[39;49m\u001b[39mrb\u001b[39;49m\u001b[39m\"\u001b[39;49m))\n\u001b[1;32m    391\u001b[0m     own_fid \u001b[39m=\u001b[39m \u001b[39mTrue\u001b[39;00m\n\u001b[1;32m    393\u001b[0m \u001b[39m# Code to distinguish from NumPy binary files and pickles.\u001b[39;00m\n",
      "\u001b[0;31mFileNotFoundError\u001b[0m: [Errno 2] No such file or directory: '../Simulation_scenarios/motorway/Results/folder_big_run/input_data1.npy'"
     ]
    }
   ],
   "source": [
    "input_data_arr = []\n",
    "for i in range(1,6):\n",
    "    input_data_arr.append(np.load(f'{path}/input_data{i}.npy'))\n",
    "input_data = np.concatenate(input_data_arr)\n",
    "np.save(f'{target_path}/input_data.npy', input_data)"
   ]
  },
  {
   "cell_type": "code",
   "execution_count": 27,
   "metadata": {},
   "outputs": [],
   "source": [
    "target_data_arr = []\n",
    "for i in range(1,6):\n",
    "    target_data_arr.append(np.load(f'{path}/target_data{i}.npy'))\n",
    "target_data = np.concatenate(target_data_arr)\n",
    "np.save(f'{target_path}/target_data.npy', target_data)"
   ]
  },
  {
   "cell_type": "code",
   "execution_count": 29,
   "metadata": {},
   "outputs": [],
   "source": [
    "incident_info_arr = []\n",
    "for i in range(1,6):\n",
    "    incident_info_arr.append(np.load(f'{path}/incident_info{i}.npy'))\n",
    "incident_info = np.concatenate(incident_info_arr)\n",
    "np.save(f'{target_path}/incident_info.npy', incident_info)"
   ]
  },
  {
   "cell_type": "code",
   "execution_count": 32,
   "metadata": {},
   "outputs": [],
   "source": [
    "network_info_arr = []\n",
    "for i in range(1,6):\n",
    "    network_info_arr.append(np.load(f'{path}/network_info{i}.npy'))\n",
    "network_info = np.concatenate(network_info_arr)\n",
    "np.save(f'{target_path}/network_info.npy', network_info)"
   ]
  },
  {
   "cell_type": "code",
   "execution_count": 4,
   "metadata": {},
   "outputs": [
    {
     "data": {
      "text/plain": [
       "['target_data5.npy',\n",
       " 'network_info4.npy',\n",
       " 'counter_data4.npy',\n",
       " 'incident_info5.npy',\n",
       " 'ind_to_edge5.json',\n",
       " 'incident_info4.npy',\n",
       " 'input_data5.npy',\n",
       " 'ind_to_edge1.json',\n",
       " 'counter_data2.npy',\n",
       " 'full_inci_data4.npy',\n",
       " 'input_data4.npy',\n",
       " 'incident_info2.npy',\n",
       " 'ind_to_edge2.json',\n",
       " 'incident_info1.npy',\n",
       " 'network_info1.npy',\n",
       " 'incident_settings5.npy',\n",
       " 'full_inci_data1.npy',\n",
       " 'target_data4.npy',\n",
       " 'input_data2.npy',\n",
       " 'input_data3.npy',\n",
       " 'incident_settings1.npy',\n",
       " 'full_inci_data2.npy',\n",
       " 'network_info5.npy',\n",
       " 'ind_to_edge4.json',\n",
       " 'input_data1.npy',\n",
       " 'target_data1.npy',\n",
       " 'incident_info3.npy',\n",
       " 'incident_settings4.npy',\n",
       " 'network_info3.npy',\n",
       " 'counter_data5.npy',\n",
       " 'counter_data3.npy',\n",
       " 'target_data2.npy',\n",
       " 'incident_settings2.npy',\n",
       " 'incident_settings3.npy',\n",
       " 'full_inci_data5.npy',\n",
       " 'target_data3.npy',\n",
       " 'network_info2.npy',\n",
       " 'ind_to_edge3.json',\n",
       " 'counter_data1.npy',\n",
       " 'full_inci_data3.npy']"
      ]
     },
     "execution_count": 4,
     "metadata": {},
     "output_type": "execute_result"
    }
   ],
   "source": [
    "os.listdir(path)"
   ]
  },
  {
   "cell_type": "code",
   "execution_count": 22,
   "metadata": {},
   "outputs": [],
   "source": [
    "temp_inci_data = np.load(f'{path}/full_inci_data5.npy')\n",
    "np.save(f'{path}/long_input_data5.npy', temp_inci_data[:,:,:,:40,:])"
   ]
  },
  {
   "cell_type": "code",
   "execution_count": null,
   "metadata": {},
   "outputs": [],
   "source": []
  },
  {
   "cell_type": "code",
   "execution_count": 12,
   "metadata": {},
   "outputs": [
    {
     "data": {
      "text/plain": [
       "(2000, 147, 6, 20, 5)"
      ]
     },
     "execution_count": 12,
     "metadata": {},
     "output_type": "execute_result"
    }
   ],
   "source": [
    "temp_inci_data[:,:,:,:20,:].shape"
   ]
  },
  {
   "cell_type": "code",
   "execution_count": 14,
   "metadata": {},
   "outputs": [],
   "source": [
    "\n",
    "np.save(f'{path}/long_input_data1.npy', temp_inci_data[:,:,:,:40,:])"
   ]
  },
  {
   "cell_type": "code",
   "execution_count": 15,
   "metadata": {},
   "outputs": [
    {
     "data": {
      "text/plain": [
       "(2000, 147, 6, 40, 5)"
      ]
     },
     "execution_count": 15,
     "metadata": {},
     "output_type": "execute_result"
    }
   ],
   "source": [
    "test = np.load(f'{path}/long_input_data1.npy')\n",
    "test.shape"
   ]
  },
  {
   "cell_type": "code",
   "execution_count": null,
   "metadata": {},
   "outputs": [],
   "source": [
    "os.list"
   ]
  },
  {
   "cell_type": "code",
   "execution_count": 4,
   "metadata": {},
   "outputs": [
    {
     "data": {
      "text/plain": [
       "(2000, 147, 6, 231, 5)"
      ]
     },
     "execution_count": 4,
     "metadata": {},
     "output_type": "execute_result"
    }
   ],
   "source": [
    "temp_inci_data.shape"
   ]
  },
  {
   "cell_type": "code",
   "execution_count": 23,
   "metadata": {},
   "outputs": [],
   "source": [
    "long_input_data_arr = []\n",
    "for i in range(1,6):\n",
    "    long_input_data_arr.append(np.load(f'{path}/long_input_data{i}.npy'))\n",
    "full_incident_data = np.concatenate(long_input_data_arr)\n",
    "np.save(f'{target_path}/long_input_data.npy', full_incident_data)"
   ]
  },
  {
   "cell_type": "code",
   "execution_count": null,
   "metadata": {},
   "outputs": [],
   "source": []
  },
  {
   "cell_type": "code",
   "execution_count": 5,
   "metadata": {},
   "outputs": [],
   "source": [
    "input_data = np.load(f'{target_path}/input_data.npy')"
   ]
  },
  {
   "cell_type": "code",
   "execution_count": 6,
   "metadata": {},
   "outputs": [
    {
     "data": {
      "text/plain": [
       "(10270, 147, 6, 10, 5)"
      ]
     },
     "execution_count": 6,
     "metadata": {},
     "output_type": "execute_result"
    }
   ],
   "source": [
    "input_data.shape"
   ]
  },
  {
   "cell_type": "code",
   "execution_count": 7,
   "metadata": {},
   "outputs": [
    {
     "ename": "FileNotFoundError",
     "evalue": "[Errno 2] No such file or directory: '../Simulation_scenarios/motorway/Results/folder_big_run'",
     "output_type": "error",
     "traceback": [
      "\u001b[0;31m---------------------------------------------------------------------------\u001b[0m",
      "\u001b[0;31mFileNotFoundError\u001b[0m                         Traceback (most recent call last)",
      "Cell \u001b[0;32mIn [7], line 1\u001b[0m\n\u001b[0;32m----> 1\u001b[0m os\u001b[39m.\u001b[39;49mlistdir(path)\n",
      "\u001b[0;31mFileNotFoundError\u001b[0m: [Errno 2] No such file or directory: '../Simulation_scenarios/motorway/Results/folder_big_run'"
     ]
    }
   ],
   "source": [
    "os.listdir(path)"
   ]
  },
  {
   "cell_type": "code",
   "execution_count": 4,
   "metadata": {},
   "outputs": [
    {
     "ename": "ValueError",
     "evalue": "Object arrays cannot be loaded when allow_pickle=False",
     "output_type": "error",
     "traceback": [
      "\u001b[0;31m---------------------------------------------------------------------------\u001b[0m",
      "\u001b[0;31mValueError\u001b[0m                                Traceback (most recent call last)",
      "Cell \u001b[0;32mIn [4], line 7\u001b[0m\n\u001b[1;32m      5\u001b[0m np\u001b[39m.\u001b[39mload(\u001b[39mf\u001b[39m\u001b[39m'\u001b[39m\u001b[39m{\u001b[39;00mpath\u001b[39m}\u001b[39;00m\u001b[39m/full_inci_data5.npy\u001b[39m\u001b[39m'\u001b[39m)\n\u001b[1;32m      6\u001b[0m np\u001b[39m.\u001b[39mload(\u001b[39mf\u001b[39m\u001b[39m'\u001b[39m\u001b[39m{\u001b[39;00mpath\u001b[39m}\u001b[39;00m\u001b[39m/counter_data5.npy\u001b[39m\u001b[39m'\u001b[39m)\n\u001b[0;32m----> 7\u001b[0m np\u001b[39m.\u001b[39;49mload(\u001b[39mf\u001b[39;49m\u001b[39m'\u001b[39;49m\u001b[39m{\u001b[39;49;00mpath\u001b[39m}\u001b[39;49;00m\u001b[39m/incident_settings5.npy\u001b[39;49m\u001b[39m'\u001b[39;49m)\n",
      "File \u001b[0;32m~/Quick_adap/env_quick/lib/python3.8/site-packages/numpy/lib/npyio.py:413\u001b[0m, in \u001b[0;36mload\u001b[0;34m(file, mmap_mode, allow_pickle, fix_imports, encoding)\u001b[0m\n\u001b[1;32m    411\u001b[0m         \u001b[39mreturn\u001b[39;00m \u001b[39mformat\u001b[39m\u001b[39m.\u001b[39mopen_memmap(file, mode\u001b[39m=\u001b[39mmmap_mode)\n\u001b[1;32m    412\u001b[0m     \u001b[39melse\u001b[39;00m:\n\u001b[0;32m--> 413\u001b[0m         \u001b[39mreturn\u001b[39;00m \u001b[39mformat\u001b[39;49m\u001b[39m.\u001b[39;49mread_array(fid, allow_pickle\u001b[39m=\u001b[39;49mallow_pickle,\n\u001b[1;32m    414\u001b[0m                                  pickle_kwargs\u001b[39m=\u001b[39;49mpickle_kwargs)\n\u001b[1;32m    415\u001b[0m \u001b[39melse\u001b[39;00m:\n\u001b[1;32m    416\u001b[0m     \u001b[39m# Try a pickle\u001b[39;00m\n\u001b[1;32m    417\u001b[0m     \u001b[39mif\u001b[39;00m \u001b[39mnot\u001b[39;00m allow_pickle:\n",
      "File \u001b[0;32m~/Quick_adap/env_quick/lib/python3.8/site-packages/numpy/lib/format.py:741\u001b[0m, in \u001b[0;36mread_array\u001b[0;34m(fp, allow_pickle, pickle_kwargs)\u001b[0m\n\u001b[1;32m    738\u001b[0m \u001b[39mif\u001b[39;00m dtype\u001b[39m.\u001b[39mhasobject:\n\u001b[1;32m    739\u001b[0m     \u001b[39m# The array contained Python objects. We need to unpickle the data.\u001b[39;00m\n\u001b[1;32m    740\u001b[0m     \u001b[39mif\u001b[39;00m \u001b[39mnot\u001b[39;00m allow_pickle:\n\u001b[0;32m--> 741\u001b[0m         \u001b[39mraise\u001b[39;00m \u001b[39mValueError\u001b[39;00m(\u001b[39m\"\u001b[39m\u001b[39mObject arrays cannot be loaded when \u001b[39m\u001b[39m\"\u001b[39m\n\u001b[1;32m    742\u001b[0m                          \u001b[39m\"\u001b[39m\u001b[39mallow_pickle=False\u001b[39m\u001b[39m\"\u001b[39m)\n\u001b[1;32m    743\u001b[0m     \u001b[39mif\u001b[39;00m pickle_kwargs \u001b[39mis\u001b[39;00m \u001b[39mNone\u001b[39;00m:\n\u001b[1;32m    744\u001b[0m         pickle_kwargs \u001b[39m=\u001b[39m {}\n",
      "\u001b[0;31mValueError\u001b[0m: Object arrays cannot be loaded when allow_pickle=False"
     ]
    }
   ],
   "source": [
    "np.load(f'{path}/input_data5.npy')\n",
    "np.load(f'{path}/target_data5.npy')\n",
    "np.load(f'{path}/incident_info5.npy')\n",
    "np.load(f'{path}/network_info5.npy')\n",
    "np.load(f'{path}/full_inci_data5.npy')\n",
    "np.load(f'{path}/counter_data5.npy')\n",
    "np.load(f'{path}/incident_settings5.npy')"
   ]
  },
  {
   "cell_type": "code",
   "execution_count": null,
   "metadata": {},
   "outputs": [],
   "source": []
  }
 ],
 "metadata": {
  "kernelspec": {
   "display_name": "Python 3 (ipykernel)",
   "language": "python",
   "name": "python3"
  },
  "language_info": {
   "codemirror_mode": {
    "name": "ipython",
    "version": 3
   },
   "file_extension": ".py",
   "mimetype": "text/x-python",
   "name": "python",
   "nbconvert_exporter": "python",
   "pygments_lexer": "ipython3",
   "version": "3.8.10"
  },
  "vscode": {
   "interpreter": {
    "hash": "a98148271ae12b089ac623782357ec53fcf3ff4b348e20d09619b786609516cc"
   }
  }
 },
 "nbformat": 4,
 "nbformat_minor": 4
}
