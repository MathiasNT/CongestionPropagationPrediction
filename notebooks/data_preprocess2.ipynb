{
 "cells": [
  {
   "cell_type": "code",
   "execution_count": 1,
   "metadata": {},
   "outputs": [],
   "source": [
    "import pandas as pd\n",
    "import numpy as np"
   ]
  },
  {
   "cell_type": "code",
   "execution_count": null,
   "metadata": {},
   "outputs": [],
   "source": [
    "# TODO Clean up the location of the partial files\n",
    "# TODO double check the input time length"
   ]
  },
  {
   "cell_type": "code",
   "execution_count": 22,
   "metadata": {},
   "outputs": [],
   "source": [
    "path = '../Simulation_scenarios/motorway/Results/folder_big_run'\n",
    "target_path = '../Simulation_scenarios/motorway/Results/folder_full_run/'"
   ]
  },
  {
   "cell_type": "code",
   "execution_count": 24,
   "metadata": {},
   "outputs": [],
   "source": [
    "input_data_arr = []\n",
    "for i in range(1,6):\n",
    "    input_data_arr.append(np.load(f'{path}/input_data{i}.npy'))\n",
    "input_data = np.concatenate(input_data_arr)\n",
    "np.save(f'{target_path}/input_data.npy', input_data)"
   ]
  },
  {
   "cell_type": "code",
   "execution_count": 27,
   "metadata": {},
   "outputs": [],
   "source": [
    "target_data_arr = []\n",
    "for i in range(1,6):\n",
    "    target_data_arr.append(np.load(f'{path}/target_data{i}.npy'))\n",
    "target_data = np.concatenate(target_data_arr)\n",
    "np.save(f'{target_path}/target_data.npy', target_data)"
   ]
  },
  {
   "cell_type": "code",
   "execution_count": 29,
   "metadata": {},
   "outputs": [],
   "source": [
    "incident_info_arr = []\n",
    "for i in range(1,6):\n",
    "    incident_info_arr.append(np.load(f'{path}/incident_info{i}.npy'))\n",
    "incident_info = np.concatenate(incident_info_arr)\n",
    "np.save(f'{target_path}/incident_info.npy', incident_info)"
   ]
  },
  {
   "cell_type": "code",
   "execution_count": 32,
   "metadata": {},
   "outputs": [],
   "source": [
    "network_info_arr = []\n",
    "for i in range(1,6):\n",
    "    network_info_arr.append(np.load(f'{path}/network_info{i}.npy'))\n",
    "network_info = np.concatenate(network_info_arr)\n",
    "np.save(f'{target_path}/network_info.npy', network_info)"
   ]
  },
  {
   "cell_type": "code",
   "execution_count": 33,
   "metadata": {},
   "outputs": [
    {
     "data": {
      "text/plain": [
       "array([[[200.,   0.,   0., ...,   1.,   0.,   0.],\n",
       "        [200.,   0.,   0., ...,   1.,   1.,   0.],\n",
       "        [200.,   0.,   0., ...,   1.,   0.,   0.],\n",
       "        ...,\n",
       "        [ 25.,   0.,   0., ...,   1.,   0.,   0.],\n",
       "        [ 26.,   0.,   0., ...,   1.,   0.,   0.],\n",
       "        [ 27.,   0.,   0., ...,   1.,   0.,   0.]],\n",
       "\n",
       "       [[200.,   0.,   0., ...,   1.,   0.,   0.],\n",
       "        [200.,   0.,   0., ...,   1.,   1.,   0.],\n",
       "        [200.,   0.,   0., ...,   1.,   0.,   0.],\n",
       "        ...,\n",
       "        [ 15.,   0.,   0., ...,   1.,   0.,   0.],\n",
       "        [ 16.,   0.,   0., ...,   1.,   0.,   0.],\n",
       "        [ 17.,   0.,   0., ...,   1.,   0.,   0.]],\n",
       "\n",
       "       [[200.,   0.,   0., ...,   1.,   0.,   0.],\n",
       "        [200.,   0.,   0., ...,   1.,   1.,   0.],\n",
       "        [200.,   0.,   0., ...,   1.,   0.,   0.],\n",
       "        ...,\n",
       "        [ 23.,   0.,   0., ...,   1.,   0.,   0.],\n",
       "        [ 24.,   0.,   0., ...,   1.,   0.,   0.],\n",
       "        [ 25.,   0.,   0., ...,   1.,   0.,   0.]],\n",
       "\n",
       "       ...,\n",
       "\n",
       "       [[200.,   0.,   0., ...,   1.,   0.,   0.],\n",
       "        [200.,   0.,   0., ...,   1.,   1.,   0.],\n",
       "        [200.,   0.,   0., ...,   1.,   0.,   0.],\n",
       "        ...,\n",
       "        [200.,   0.,   0., ...,   1.,   0.,   0.],\n",
       "        [200.,   0.,   0., ...,   1.,   0.,   0.],\n",
       "        [200.,   0.,   0., ...,   1.,   0.,   0.]],\n",
       "\n",
       "       [[200.,   0.,   0., ...,   1.,   0.,   0.],\n",
       "        [200.,   0.,   0., ...,   1.,   1.,   0.],\n",
       "        [200.,   0.,   0., ...,   1.,   0.,   0.],\n",
       "        ...,\n",
       "        [  6.,   0.,   0., ...,   1.,   0.,   0.],\n",
       "        [  7.,   0.,   0., ...,   1.,   0.,   0.],\n",
       "        [  8.,   0.,   0., ...,   1.,   0.,   0.]],\n",
       "\n",
       "       [[200.,   0.,   0., ...,   1.,   0.,   0.],\n",
       "        [200.,   0.,   0., ...,   1.,   1.,   0.],\n",
       "        [200.,   0.,   0., ...,   1.,   0.,   0.],\n",
       "        ...,\n",
       "        [200.,   0.,   0., ...,   1.,   0.,   0.],\n",
       "        [200.,   0.,   0., ...,   1.,   0.,   0.],\n",
       "        [200.,   0.,   0., ...,   1.,   0.,   0.]]])"
      ]
     },
     "execution_count": 33,
     "metadata": {},
     "output_type": "execute_result"
    }
   ],
   "source": [
    "np.load(f'{target_path}/network_info.npy')"
   ]
  },
  {
   "cell_type": "code",
   "execution_count": 4,
   "metadata": {},
   "outputs": [
    {
     "ename": "ValueError",
     "evalue": "Object arrays cannot be loaded when allow_pickle=False",
     "output_type": "error",
     "traceback": [
      "\u001b[0;31m---------------------------------------------------------------------------\u001b[0m",
      "\u001b[0;31mValueError\u001b[0m                                Traceback (most recent call last)",
      "Cell \u001b[0;32mIn [4], line 7\u001b[0m\n\u001b[1;32m      5\u001b[0m np\u001b[39m.\u001b[39mload(\u001b[39mf\u001b[39m\u001b[39m'\u001b[39m\u001b[39m{\u001b[39;00mpath\u001b[39m}\u001b[39;00m\u001b[39m/full_inci_data5.npy\u001b[39m\u001b[39m'\u001b[39m)\n\u001b[1;32m      6\u001b[0m np\u001b[39m.\u001b[39mload(\u001b[39mf\u001b[39m\u001b[39m'\u001b[39m\u001b[39m{\u001b[39;00mpath\u001b[39m}\u001b[39;00m\u001b[39m/counter_data5.npy\u001b[39m\u001b[39m'\u001b[39m)\n\u001b[0;32m----> 7\u001b[0m np\u001b[39m.\u001b[39;49mload(\u001b[39mf\u001b[39;49m\u001b[39m'\u001b[39;49m\u001b[39m{\u001b[39;49;00mpath\u001b[39m}\u001b[39;49;00m\u001b[39m/incident_settings5.npy\u001b[39;49m\u001b[39m'\u001b[39;49m)\n",
      "File \u001b[0;32m~/Quick_adap/env_quick/lib/python3.8/site-packages/numpy/lib/npyio.py:413\u001b[0m, in \u001b[0;36mload\u001b[0;34m(file, mmap_mode, allow_pickle, fix_imports, encoding)\u001b[0m\n\u001b[1;32m    411\u001b[0m         \u001b[39mreturn\u001b[39;00m \u001b[39mformat\u001b[39m\u001b[39m.\u001b[39mopen_memmap(file, mode\u001b[39m=\u001b[39mmmap_mode)\n\u001b[1;32m    412\u001b[0m     \u001b[39melse\u001b[39;00m:\n\u001b[0;32m--> 413\u001b[0m         \u001b[39mreturn\u001b[39;00m \u001b[39mformat\u001b[39;49m\u001b[39m.\u001b[39;49mread_array(fid, allow_pickle\u001b[39m=\u001b[39;49mallow_pickle,\n\u001b[1;32m    414\u001b[0m                                  pickle_kwargs\u001b[39m=\u001b[39;49mpickle_kwargs)\n\u001b[1;32m    415\u001b[0m \u001b[39melse\u001b[39;00m:\n\u001b[1;32m    416\u001b[0m     \u001b[39m# Try a pickle\u001b[39;00m\n\u001b[1;32m    417\u001b[0m     \u001b[39mif\u001b[39;00m \u001b[39mnot\u001b[39;00m allow_pickle:\n",
      "File \u001b[0;32m~/Quick_adap/env_quick/lib/python3.8/site-packages/numpy/lib/format.py:741\u001b[0m, in \u001b[0;36mread_array\u001b[0;34m(fp, allow_pickle, pickle_kwargs)\u001b[0m\n\u001b[1;32m    738\u001b[0m \u001b[39mif\u001b[39;00m dtype\u001b[39m.\u001b[39mhasobject:\n\u001b[1;32m    739\u001b[0m     \u001b[39m# The array contained Python objects. We need to unpickle the data.\u001b[39;00m\n\u001b[1;32m    740\u001b[0m     \u001b[39mif\u001b[39;00m \u001b[39mnot\u001b[39;00m allow_pickle:\n\u001b[0;32m--> 741\u001b[0m         \u001b[39mraise\u001b[39;00m \u001b[39mValueError\u001b[39;00m(\u001b[39m\"\u001b[39m\u001b[39mObject arrays cannot be loaded when \u001b[39m\u001b[39m\"\u001b[39m\n\u001b[1;32m    742\u001b[0m                          \u001b[39m\"\u001b[39m\u001b[39mallow_pickle=False\u001b[39m\u001b[39m\"\u001b[39m)\n\u001b[1;32m    743\u001b[0m     \u001b[39mif\u001b[39;00m pickle_kwargs \u001b[39mis\u001b[39;00m \u001b[39mNone\u001b[39;00m:\n\u001b[1;32m    744\u001b[0m         pickle_kwargs \u001b[39m=\u001b[39m {}\n",
      "\u001b[0;31mValueError\u001b[0m: Object arrays cannot be loaded when allow_pickle=False"
     ]
    }
   ],
   "source": [
    "np.load(f'{path}/input_data5.npy')\n",
    "np.load(f'{path}/target_data5.npy')\n",
    "np.load(f'{path}/incident_info5.npy')\n",
    "np.load(f'{path}/network_info5.npy')\n",
    "np.load(f'{path}/full_inci_data5.npy')\n",
    "np.load(f'{path}/counter_data5.npy')\n",
    "np.load(f'{path}/incident_settings5.npy')"
   ]
  },
  {
   "cell_type": "code",
   "execution_count": null,
   "metadata": {},
   "outputs": [],
   "source": []
  }
 ],
 "metadata": {
  "kernelspec": {
   "display_name": "Python 3 (ipykernel)",
   "language": "python",
   "name": "python3"
  },
  "language_info": {
   "codemirror_mode": {
    "name": "ipython",
    "version": 3
   },
   "file_extension": ".py",
   "mimetype": "text/x-python",
   "name": "python",
   "nbconvert_exporter": "python",
   "pygments_lexer": "ipython3",
   "version": "3.8.10"
  },
  "vscode": {
   "interpreter": {
    "hash": "a98148271ae12b089ac623782357ec53fcf3ff4b348e20d09619b786609516cc"
   }
  }
 },
 "nbformat": 4,
 "nbformat_minor": 4
}
