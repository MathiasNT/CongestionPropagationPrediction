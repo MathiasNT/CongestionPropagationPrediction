{
 "cells": [
  {
   "cell_type": "code",
   "execution_count": 1,
   "metadata": {},
   "outputs": [],
   "source": [
    "%load_ext autoreload\n",
    "%autoreload 2"
   ]
  },
  {
   "cell_type": "code",
   "execution_count": 2,
   "metadata": {},
   "outputs": [],
   "source": [
    "import sumolib\n",
    "import sys\n",
    "import json\n",
    "import matplotlib.pyplot as plt\n",
    "import numpy as np\n",
    "import torch\n",
    "\n",
    "sys.path.append('..')\n",
    "from util_folder.ml_utils.data_utils.data_loader_utils import IncidentDataModule"
   ]
  },
  {
   "cell_type": "code",
   "execution_count": 3,
   "metadata": {},
   "outputs": [
    {
     "name": "stdout",
     "output_type": "stream",
     "text": [
      "*** DATA SUMMARY: ***\n",
      "input_obs_full.shape=torch.Size([10270, 147, 6, 15, 3])\n",
      "input_time_full.shape=torch.Size([10270, 147, 6, 15, 2])\n",
      "target_full.shape=torch.Size([10270, 147, 4])\n",
      "incident_info_full.shape=torch.Size([10270, 4])\n",
      "network_info_full.shape=torch.Size([10270, 147, 13])\n",
      "\n"
     ]
    }
   ],
   "source": [
    "# Load net and dataset info\n",
    "folder_path = f'../Simulation_scenarios/motorway/Results/incident_large_long'\n",
    "incident_data_module = IncidentDataModule(folder_path = folder_path, transform='scalenormalize', batch_size = 100)\n",
    "incident_data_module.setup()\n",
    "train_dataloader = incident_data_module.train_dataloader()\n",
    "train_dataset = train_dataloader.dataset\n",
    "val_dataloader = incident_data_module.val_dataloader()\n",
    "val_dataset = val_dataloader.dataset\n",
    "test_dataloader = incident_data_module.test_dataloader()\n",
    "test_dataset = test_dataloader.dataset\n",
    "\n",
    "net_path = '../Simulation_scenarios/motorway/Simulations/Base/network.net.xml'\n",
    "net = sumolib.net.readNet(net_path)\n",
    "\n",
    "with open('../Simulation_scenarios/motorway/Results/incident_large/ind_to_edge.json') as f:\n",
    "    ind_to_edge = json.load(f)"
   ]
  },
  {
   "cell_type": "code",
   "execution_count": 18,
   "metadata": {},
   "outputs": [],
   "source": [
    "test_edges = ['4414080#0.187', \n",
    "                '4414080#0.756', \n",
    "                '4414080#0', \n",
    "                '332655581', \n",
    "                '360361373-AddedOffRampEdge', \n",
    "                '360361373.2643' ]"
   ]
  },
  {
   "cell_type": "code",
   "execution_count": 19,
   "metadata": {},
   "outputs": [],
   "source": [
    "edge_to_ind = {v:k for k, v in ind_to_edge.items()}"
   ]
  },
  {
   "cell_type": "code",
   "execution_count": 28,
   "metadata": {},
   "outputs": [],
   "source": [
    "test_edge_idxs = torch.tensor([int(edge_to_ind[edge]) for edge in test_edges])"
   ]
  },
  {
   "cell_type": "code",
   "execution_count": 29,
   "metadata": {},
   "outputs": [
    {
     "data": {
      "text/plain": [
       "tensor([80, 81, 79, 53, 59, 64])"
      ]
     },
     "execution_count": 29,
     "metadata": {},
     "output_type": "execute_result"
    }
   ],
   "source": [
    "test_edge_idxs"
   ]
  },
  {
   "cell_type": "code",
   "execution_count": 45,
   "metadata": {},
   "outputs": [],
   "source": [
    "input_full = torch.Tensor(np.load(f'{folder_path}/input_data.npy'))\n",
    "input_obs_full = input_full[...,:-2]\n",
    "input_time_full = input_full[...,-2:]\n",
    "target_full = torch.Tensor(np.load(f'{folder_path}/target_data.npy'))\n",
    "incident_info_full = torch.Tensor(np.load(f'{folder_path}/incident_info.npy'))\n",
    "network_info_full = torch.Tensor(np.load(f'{folder_path}/network_info.npy'))"
   ]
  },
  {
   "cell_type": "code",
   "execution_count": 74,
   "metadata": {},
   "outputs": [],
   "source": [
    "spatial_test_mask = sum(incident_info_full[...,0] == edge_idx for edge_idx in test_edge_idxs).bool()"
   ]
  },
  {
   "cell_type": "code",
   "execution_count": 75,
   "metadata": {},
   "outputs": [
    {
     "data": {
      "text/plain": [
       "tensor([False, False, False,  ..., False, False, False])"
      ]
     },
     "execution_count": 75,
     "metadata": {},
     "output_type": "execute_result"
    }
   ],
   "source": [
    "spatial_test_mask"
   ]
  },
  {
   "cell_type": "code",
   "execution_count": 78,
   "metadata": {},
   "outputs": [
    {
     "data": {
      "text/plain": [
       "tensor([[8.1000e+01, 4.0000e+00, 1.3800e+01, 1.0030e+03],\n",
       "        [5.3000e+01, 1.0000e+00, 1.3800e+01, 1.2010e+03],\n",
       "        [5.3000e+01, 1.0000e+00, 1.3800e+01, 1.2120e+03],\n",
       "        ...,\n",
       "        [8.0000e+01, 2.0000e+00, 1.3800e+01, 1.2180e+03],\n",
       "        [7.9000e+01, 2.0000e+00, 1.3800e+01, 1.1860e+03],\n",
       "        [5.3000e+01, 1.0000e+00, 1.3800e+01, 1.1570e+03]])"
      ]
     },
     "execution_count": 78,
     "metadata": {},
     "output_type": "execute_result"
    }
   ],
   "source": [
    "incident_info_full[spatial_test_mask]"
   ]
  },
  {
   "cell_type": "code",
   "execution_count": null,
   "metadata": {},
   "outputs": [],
   "source": []
  }
 ],
 "metadata": {
  "kernelspec": {
   "display_name": "Python 3.8.10 ('env_quick')",
   "language": "python",
   "name": "python3"
  },
  "language_info": {
   "codemirror_mode": {
    "name": "ipython",
    "version": 3
   },
   "file_extension": ".py",
   "mimetype": "text/x-python",
   "name": "python",
   "nbconvert_exporter": "python",
   "pygments_lexer": "ipython3",
   "version": "3.8.10"
  },
  "orig_nbformat": 4,
  "vscode": {
   "interpreter": {
    "hash": "a98148271ae12b089ac623782357ec53fcf3ff4b348e20d09619b786609516cc"
   }
  }
 },
 "nbformat": 4,
 "nbformat_minor": 2
}
