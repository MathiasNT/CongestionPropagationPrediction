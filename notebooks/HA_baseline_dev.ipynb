{
 "cells": [
  {
   "cell_type": "code",
   "execution_count": 1,
   "metadata": {},
   "outputs": [],
   "source": [
    "%load_ext autoreload\n",
    "%autoreload 2\n"
   ]
  },
  {
   "cell_type": "code",
   "execution_count": 2,
   "metadata": {},
   "outputs": [],
   "source": [
    "import sumolib\n",
    "import sys\n",
    "import json\n",
    "import matplotlib.pyplot as plt\n",
    "import numpy as np\n",
    "import torch\n",
    "\n",
    "sys.path.append('..')\n",
    "from util_folder.ml_utils.data_utils.data_loader_utils import IncidentDataModule"
   ]
  },
  {
   "cell_type": "code",
   "execution_count": 3,
   "metadata": {},
   "outputs": [
    {
     "name": "stdout",
     "output_type": "stream",
     "text": [
      "*** DATA SUMMARY: ***\n",
      "input_obs_full.shape=torch.Size([10270, 147, 6, 10, 3])\n",
      "input_time_full.shape=torch.Size([10270, 147, 6, 10, 2])\n",
      "target_full.shape=torch.Size([10270, 147, 4])\n",
      "incident_info_full.shape=torch.Size([10270, 4])\n",
      "network_info_full.shape=torch.Size([10270, 147, 13])\n",
      "\n"
     ]
    }
   ],
   "source": [
    "\n",
    "# Load net and dataset info\n",
    "folder_path = f'../Simulation_scenarios/motorway/Results/incident_large'\n",
    "incident_data_module = IncidentDataModule(folder_path = folder_path, transform='standardize', batch_size = 100, spatial_test=True)\n",
    "incident_data_module.setup()\n",
    "train_dataloader = incident_data_module.train_dataloader()\n",
    "train_dataset = train_dataloader.dataset\n",
    "val_dataloader = incident_data_module.val_dataloader()\n",
    "val_dataset = val_dataloader.dataset\n",
    "test_dataloader = incident_data_module.test_dataloader()\n",
    "test_dataset = test_dataloader.dataset\n",
    "\n",
    "net_path = '../Simulation_scenarios/motorway/Simulations/Base/network.net.xml'\n",
    "net = sumolib.net.readNet(net_path)\n",
    "\n",
    "with open('../Simulation_scenarios/motorway/Results/incident_large/ind_to_edge.json') as f:\n",
    "    ind_to_edge = json.load(f)"
   ]
  },
  {
   "cell_type": "markdown",
   "metadata": {},
   "source": [
    "# HA Baseline v1\n",
    "* The idea is to find the historical incident that have\n",
    "* * The same incident edge\n",
    "* * The same number of blocked lanes\n",
    "* * The time as close as possible with above constraints\n",
    "* I checked we have at least 3 candidates for each incident in the val set luckily\n",
    "* I'll return zero if no match exists"
   ]
  },
  {
   "cell_type": "code",
   "execution_count": 4,
   "metadata": {},
   "outputs": [],
   "source": [
    "from models.baselines.ha_models import HA_model_v1\n",
    "from torch import nn\n",
    "from torchmetrics import MeanAbsolutePercentageError, Accuracy\n",
    "from torchmetrics.classification import BinaryF1Score\n",
    "from torchmetrics.functional import precision_recall\n",
    "from util_folder.ml_utils.result_utils.metric_utils import masked_mape, MetricObj, generate_masks"
   ]
  },
  {
   "cell_type": "code",
   "execution_count": 5,
   "metadata": {},
   "outputs": [],
   "source": [
    "cur_ie_idx = val_dataset.incident_info[1,0]\n",
    "cur_n_lanes = val_dataset.incident_info[1,1]\n",
    "hist_incident_info = train_dataset.incident_info[:]\n",
    "hist_net_info = train_dataset.network_info[:, :,0]\n",
    "\n",
    "edge_cost = hist_net_info[:,cur_ie_idx.int()].abs()\n",
    "lane_cost = (hist_incident_info[:,1] - cur_n_lanes).abs()\n",
    "combined_cost = edge_cost + lane_cost\n",
    "min_cost = combined_cost.min()\n",
    "combined_mask = combined_cost == min_cost\n",
    "matching_idxs = combined_mask.argwhere()\n",
    "\n",
    "metric_obj = MetricObj(bce_pos_weight=25.5191)"
   ]
  },
  {
   "cell_type": "code",
   "execution_count": 6,
   "metadata": {},
   "outputs": [
    {
     "data": {
      "text/plain": [
       "torch.Size([5455, 147, 4])"
      ]
     },
     "execution_count": 6,
     "metadata": {},
     "output_type": "execute_result"
    }
   ],
   "source": [
    "train_dataset.target_data.shape"
   ]
  },
  {
   "cell_type": "code",
   "execution_count": 7,
   "metadata": {},
   "outputs": [
    {
     "data": {
      "text/plain": [
       "{'bce': tensor(1.0589),\n",
       " 'acc': tensor(0.9795),\n",
       " 'f1': tensor(0.7297),\n",
       " 'prcsn': tensor(0.7103),\n",
       " 'rcll': tensor(0.7502)}"
      ]
     },
     "execution_count": 7,
     "metadata": {},
     "output_type": "execute_result"
    }
   ],
   "source": [
    "ha_model = HA_model_v1(train_dataset, emulated_dataset_size=5455)\n",
    "ha_preds = ha_model.predict_dataset(cur_infos=test_dataset.incident_info,\n",
    "                         cur_input_data=None,\n",
    "                         cur_input_data_time=test_dataset.input_time_data)\n",
    "full_test_res = metric_obj.calc_metrics(y_hat=ha_preds,\n",
    "                                        y_true=test_dataset.target_data,\n",
    "                                        sigmoid_in_class=False\n",
    "                                        )\n",
    "full_test_res['class']"
   ]
  },
  {
   "cell_type": "code",
   "execution_count": 8,
   "metadata": {},
   "outputs": [
    {
     "data": {
      "text/plain": [
       "{'class': {'bce': tensor(1.0589),\n",
       "  'acc': tensor(0.9795),\n",
       "  'f1': tensor(0.7297),\n",
       "  'prcsn': tensor(0.7103),\n",
       "  'rcll': tensor(0.7502)},\n",
       " 'start': {'mse': tensor(42.0988),\n",
       "  'mae': tensor(0.6873),\n",
       "  'mape': tensor(237961.4844),\n",
       "  'Mmape': tensor(0.4461)},\n",
       " 'end': {'mse': tensor(149.6459),\n",
       "  'mae': tensor(1.7504),\n",
       "  'mape': tensor(586174.4375),\n",
       "  'Mmape': tensor(0.4346)},\n",
       " 'speed': {'mse': tensor(11.1805),\n",
       "  'mae': tensor(0.4944),\n",
       "  'mape': tensor(211245.5312),\n",
       "  'Mmape': tensor(0.3097)}}"
      ]
     },
     "execution_count": 8,
     "metadata": {},
     "output_type": "execute_result"
    }
   ],
   "source": [
    "ha_model = HA_model_v1(train_dataset, emulated_dataset_size=5455)\n",
    "ha_preds = ha_model.predict_dataset(cur_infos=test_dataset.incident_info,\n",
    "                         cur_input_data=None,\n",
    "                         cur_input_data_time=test_dataset.input_time_data)\n",
    "full_test_res = metric_obj.calc_metrics(y_hat=ha_preds,\n",
    "                                        y_true=test_dataset.target_data,\n",
    "                                        sigmoid_in_class=False\n",
    "                                        )\n",
    "full_test_res"
   ]
  },
  {
   "cell_type": "code",
   "execution_count": 9,
   "metadata": {},
   "outputs": [],
   "source": [
    "test_edge_idxs = torch.tensor([80, 81, 79, 53, 59, 64, 128, 15, 14, 100, 102, 101, 82, 83, 84, 85]) \n",
    "\n",
    "# generate masks for subbsets\n",
    "upstream_mask, multilane_mask, highway_mask, spreading_mask, affected_mask  = generate_masks(test_dataset)\n",
    "spatial_mask = sum(test_dataset.incident_info[...,0]==idx for idx in test_edge_idxs).bool().unsqueeze(-1).repeat(1, 147)"
   ]
  },
  {
   "cell_type": "code",
   "execution_count": 10,
   "metadata": {},
   "outputs": [
    {
     "data": {
      "text/plain": [
       "{'class': {'bce': tensor(1.1015),\n",
       "  'acc': tensor(0.9674),\n",
       "  'f1': tensor(0.5768),\n",
       "  'prcsn': tensor(0.5412),\n",
       "  'rcll': tensor(0.6173)},\n",
       " 'start': {'mse': tensor(39.6748),\n",
       "  'mae': tensor(0.8456),\n",
       "  'mape': tensor(337328.9688),\n",
       "  'Mmape': tensor(0.5813)},\n",
       " 'end': {'mse': tensor(166.6429),\n",
       "  'mae': tensor(2.2496),\n",
       "  'mape': tensor(893624.5625),\n",
       "  'Mmape': tensor(0.5547)},\n",
       " 'speed': {'mse': tensor(18.5602),\n",
       "  'mae': tensor(0.7761),\n",
       "  'mape': tensor(362418.4688),\n",
       "  'Mmape': tensor(0.4357)}}"
      ]
     },
     "execution_count": 10,
     "metadata": {},
     "output_type": "execute_result"
    }
   ],
   "source": [
    "test_edge_idxs = torch.tensor([80, 81, 79, 53, 59, 64, 128, 15, 14, 100, 102, 101, 82, 83, 84, 85]) \n",
    "\n",
    "# generate masks for subbsets\n",
    "upstream_mask, multilane_mask, highway_mask, spreading_mask, affected_mask  = generate_masks(test_dataset)\n",
    "spatial_mask = sum(test_dataset.incident_info[...,0]==idx for idx in test_edge_idxs).bool().unsqueeze(-1).repeat(1, 147)\n",
    "\n",
    "spatial_test_res = metric_obj.calc_metrics(y_hat=ha_preds,\n",
    "                                           y_true=test_dataset.target_data,\n",
    "                                           mask=spatial_mask,\n",
    "                                           sigmoid_in_class=False\n",
    "                                           )\n",
    "\n",
    "spatial_test_res"
   ]
  },
  {
   "cell_type": "code",
   "execution_count": 11,
   "metadata": {},
   "outputs": [],
   "source": [
    "n_hop_dfs = {}\n",
    "for hop in range(11):\n",
    "    n_hop_mask = (test_dataset.network_info[:,:,0] == -hop)\n",
    "    n_hop_dfs[hop] = metric_obj.calc_metrics(y_hat=ha_preds,\n",
    "                                            y_true=test_dataset.target_data,\n",
    "                                            mask=n_hop_mask,\n",
    "                                            sigmoid_in_class=False\n",
    "                                            )"
   ]
  },
  {
   "cell_type": "code",
   "execution_count": 12,
   "metadata": {},
   "outputs": [
    {
     "name": "stdout",
     "output_type": "stream",
     "text": [
      "\tf1\tacc\tprcsn\trcll\tst mae\tend mae\tsp mae\n",
      "0:\t 0.78\t 0.68\t 0.89\t 0.70\t 4.57\t 19.43\t 8.52\n",
      "1:\t 0.82\t 0.78\t 0.88\t 0.76\t 4.08\t 17.10\t 5.53\n",
      "2:\t 0.82\t 0.82\t 0.85\t 0.80\t 4.25\t 15.11\t 4.37\n",
      "3:\t 0.81\t 0.84\t 0.84\t 0.79\t 4.57\t 14.07\t 3.92\n",
      "4:\t 0.81\t 0.85\t 0.82\t 0.81\t 5.09\t 14.01\t 3.70\n",
      "5:\t 0.80\t 0.86\t 0.80\t 0.81\t 5.43\t 13.61\t 3.50\n",
      "6:\t 0.80\t 0.87\t 0.78\t 0.81\t 5.42\t 13.21\t 3.24\n",
      "7:\t 0.79\t 0.88\t 0.78\t 0.80\t 5.95\t 13.10\t 3.11\n",
      "8:\t 0.77\t 0.88\t 0.75\t 0.78\t 5.61\t 12.41\t 3.11\n",
      "9:\t 0.74\t 0.88\t 0.72\t 0.76\t 6.13\t 12.40\t 3.05\n",
      "10:\t 0.71\t 0.89\t 0.70\t 0.71\t 5.46\t 11.46\t 2.80\n"
     ]
    }
   ],
   "source": [
    "print(f'\\tf1\\tacc\\tprcsn\\trcll\\tst mae\\tend mae\\tsp mae')\n",
    "for hop in n_hop_dfs.keys():\n",
    "    temp_df = n_hop_dfs[hop]\n",
    "    f1 = temp_df['class']['f1']\n",
    "    acc = temp_df['class']['acc']\n",
    "    prcsn = temp_df['class']['prcsn']\n",
    "    rcll = temp_df['class']['rcll']\n",
    "    start_mae = temp_df['start']['mae'] \n",
    "    end_mae = temp_df['end']['mae'] \n",
    "    speed_mae = temp_df['speed']['mae'] \n",
    "    print(f'{hop}:\\t',\n",
    "          f'{f1:.02f}\\t',\n",
    "          f'{acc:.02f}\\t',\n",
    "          f'{prcsn:.02f}\\t',\n",
    "          f'{rcll:.02f}\\t',\n",
    "          f'{start_mae:.02f}\\t',\n",
    "          f'{end_mae:.02f}\\t',\n",
    "          f'{speed_mae:.02f}')"
   ]
  },
  {
   "cell_type": "code",
   "execution_count": 13,
   "metadata": {},
   "outputs": [],
   "source": [
    "hist_len = train_dataset.incident_info.shape[0]\n",
    "subset_res_dicts = []\n",
    "subset_lens = []\n",
    "for i in np.arange(0.01,1.01,0.01):\n",
    "    subset_len = np.floor(hist_len * i).astype(int)\n",
    "\n",
    "    ha_model = HA_model_v1(train_dataset, emulated_dataset_size=subset_len)\n",
    "    ha_preds = ha_model.predict_dataset(cur_infos=test_dataset.incident_info,\n",
    "                            cur_input_data=None,\n",
    "                            cur_input_data_time=test_dataset.input_time_data)\n",
    "    subset_res = metric_obj.calc_metrics(y_hat=ha_preds,\n",
    "                            y_true=test_dataset.target_data,\n",
    "                            sigmoid_in_class=False\n",
    "                            )\n",
    "    \n",
    "    subset_lens.append(subset_len)\n",
    "    subset_res_dicts.append(subset_res)"
   ]
  },
  {
   "cell_type": "code",
   "execution_count": 14,
   "metadata": {},
   "outputs": [],
   "source": [
    "acc_scores = [res['class']['acc'] for res in subset_res_dicts]\n",
    "f1_scores = [res['class']['f1'] for res in subset_res_dicts]\n",
    "prec_scores = [res['class']['prcsn'] for res in subset_res_dicts]\n",
    "rec_scores = [res['class']['rcll'] for res in subset_res_dicts]"
   ]
  },
  {
   "cell_type": "code",
   "execution_count": 15,
   "metadata": {},
   "outputs": [
    {
     "data": {
      "text/plain": [
       "[(0.0, 1.0), (0.0, 1.0), (0.0, 1.0), (0.0, 1.0)]"
      ]
     },
     "execution_count": 15,
     "metadata": {},
     "output_type": "execute_result"
    },
    {
     "data": {
      "image/png": "[encoded data removed]",
      "text/plain": [
       "<Figure size 1080x216 with 4 Axes>"
      ]
     },
     "metadata": {
      "needs_background": "light"
     },
     "output_type": "display_data"
    }
   ],
   "source": [
    "fig, axs = plt.subplots(1,4, figsize=(15,3))\n",
    "axs[0].plot(acc_scores)\n",
    "axs[0].set_title('Accuracy')\n",
    "axs[1].plot(rec_scores)\n",
    "axs[1].set_title('rcll')\n",
    "axs[2].plot(prec_scores)\n",
    "axs[2].set_title('prcsn')\n",
    "axs[3].plot(f1_scores)\n",
    "axs[3].set_title('f1')\n",
    "fig.tight_layout()\n",
    "[ax.set_ylim(0,1) for ax in axs]"
   ]
  },
  {
   "cell_type": "markdown",
   "metadata": {},
   "source": [
    "# Diferent dataset size test"
   ]
  },
  {
   "cell_type": "code",
   "execution_count": 16,
   "metadata": {},
   "outputs": [
    {
     "name": "stdout",
     "output_type": "stream",
     "text": [
      "*** DATA SUMMARY: ***\n",
      "input_obs_full.shape=torch.Size([100, 147, 6, 10, 3])\n",
      "input_time_full.shape=torch.Size([100, 147, 6, 10, 2])\n",
      "target_full.shape=torch.Size([100, 147, 4])\n",
      "incident_info_full.shape=torch.Size([100, 4])\n",
      "network_info_full.shape=torch.Size([100, 147, 13])\n",
      "\n"
     ]
    }
   ],
   "source": [
    "incident_data_module = IncidentDataModule(folder_path = folder_path,\n",
    "                                          transform='standardize',\n",
    "                                          batch_size = 100,\n",
    "                                          spatial_test=False,\n",
    "                                          subset_size=100,                                          \n",
    "                                          )\n",
    "\n",
    "incident_data_module.setup()\n",
    "train_dataloader = incident_data_module.train_dataloader()\n",
    "train_dataset = train_dataloader.dataset\n",
    "val_dataloader = incident_data_module.val_dataloader()\n",
    "val_dataset = val_dataloader.dataset\n",
    "test_dataloader = incident_data_module.test_dataloader()\n",
    "test_dataset = test_dataloader.dataset"
   ]
  },
  {
   "cell_type": "code",
   "execution_count": null,
   "metadata": {},
   "outputs": [],
   "source": []
  }
 ],
 "metadata": {
  "kernelspec": {
   "display_name": "Python 3.8.10 ('env_quick')",
   "language": "python",
   "name": "python3"
  },
  "language_info": {
   "codemirror_mode": {
    "name": "ipython",
    "version": 3
   },
   "file_extension": ".py",
   "mimetype": "text/x-python",
   "name": "python",
   "nbconvert_exporter": "python",
   "pygments_lexer": "ipython3",
   "version": "3.8.10"
  },
  "orig_nbformat": 4,
  "vscode": {
   "interpreter": {
    "hash": "a98148271ae12b089ac623782357ec53fcf3ff4b348e20d09619b786609516cc"
   }
  }
 },
 "nbformat": 4,
 "nbformat_minor": 2
}
