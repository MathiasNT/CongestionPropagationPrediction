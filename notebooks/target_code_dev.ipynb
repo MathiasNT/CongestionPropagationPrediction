{
 "cells": [
  {
   "cell_type": "markdown",
   "id": "09310210-bb06-4a69-bd89-434f09e3615d",
   "metadata": {},
   "source": [
    "# This notebook is just straight up dev of the target inferring code"
   ]
  },
  {
   "cell_type": "code",
   "execution_count": 1,
   "id": "bfd0d2cd-35aa-426a-af27-9fcb03aac6ef",
   "metadata": {},
   "outputs": [],
   "source": [
    "%load_ext autoreload\n",
    "%autoreload 2"
   ]
  },
  {
   "cell_type": "code",
   "execution_count": 2,
   "id": "24b98d32-5bbf-444e-89af-b4f310be66d9",
   "metadata": {},
   "outputs": [],
   "source": [
    "import sys\n",
    "sys.path.append('..')"
   ]
  },
  {
   "cell_type": "code",
   "execution_count": 3,
   "id": "2648feec-8290-432b-bcd0-b777a9b92904",
   "metadata": {},
   "outputs": [],
   "source": [
    "import os\n",
    "import glob\n",
    "import pandas as pd\n",
    "import matplotlib.pyplot as plt\n",
    "import json\n",
    "import numpy as np\n",
    "import sumolib"
   ]
  },
  {
   "cell_type": "code",
   "execution_count": 4,
   "id": "225850b3-b1e9-4bf8-b7a7-f018cb877d0d",
   "metadata": {},
   "outputs": [],
   "source": [
    "from utils.data_utils.network_utils import (flatten,\n",
    "                                            get_downstream_edges,\n",
    "                                            get_upstream_edges,\n",
    "                                            get_edge_to_level_dict, \n",
    "                                            get_up_and_down_stream)\n",
    "from utils.result_utils.plot_utils import plotNet\n",
    "from utils.result_utils.file_utils import xml2csv_path\n",
    "from utils.result_utils.dotdict import DotDict\n",
    "from utils.general_utils.conversion_utils import convert_seconds_to_24h\n",
    "from utils.data_utils.preprocess_utils import (transform_df_to_tensor,\n",
    "                                                get_index_to_edge_dicts,\n",
    "                                                idxs_of_longest_seq,\n",
    "                                               find_congestion,\n",
    "                                               infer_incident_data)\n",
    "from utils.general_utils.conversion_utils import trig_transform"
   ]
  },
  {
   "cell_type": "code",
   "execution_count": null,
   "id": "fc0c1640-7350-49dc-8736-bf5d2b7f3234",
   "metadata": {},
   "outputs": [],
   "source": []
  },
  {
   "cell_type": "code",
   "execution_count": 5,
   "id": "0d9cfb2f-3c6e-4934-91eb-098e68934e3f",
   "metadata": {},
   "outputs": [],
   "source": [
    "scenario = 'motorway'\n",
    "experiment_name = 'incident3_fix_test_0'\n",
    "#path = f'../{scenario}/Results/{experiment_name}'\n",
    "path = '../motorway/Results/incident3/incident3_729'\n"
   ]
  },
  {
   "cell_type": "code",
   "execution_count": 6,
   "id": "088c952d-242c-4132-914c-6ba13fbeff1c",
   "metadata": {},
   "outputs": [
    {
     "name": "stdout",
     "output_type": "stream",
     "text": [
      "11 simulations\n"
     ]
    }
   ],
   "source": [
    "result_folders = os.listdir(path)\n",
    "print(f'{len(result_folders)} simulations')\n",
    "experiment_folders = result_folders"
   ]
  },
  {
   "cell_type": "code",
   "execution_count": 7,
   "id": "9fb13491-5f16-4b78-86a2-86824cc91269",
   "metadata": {},
   "outputs": [],
   "source": [
    "net_path = '../motorway/Simulations/Base/network.net.xml'\n",
    "net = sumolib.net.readNet(net_path)"
   ]
  },
  {
   "cell_type": "code",
   "execution_count": 9,
   "id": "1bbef6e4-154e-4fee-8f37-e7b5fdad4560",
   "metadata": {},
   "outputs": [
    {
     "name": "stdout",
     "output_type": "stream",
     "text": [
      "../motorway/Results/incident3/incident3_729\n",
      "{'slow_zone': 70, 'lc_zone': 20, 'lc_prob_zone': 170, 'slow_zone_speed': 13.8, 'run_num': 729, 'is_incident': True, 'is_random': True, 'random_seed': 1994322105, 'edge': '328393125', 'lanes': [1, 2, 3], 'pos': 27.945571553555354, 'start_time': 81121, 'start_step': 162242, 'duration_time': 1269, 'duration_steps': 2538}\n",
      "Incident at 22:32:1\n"
     ]
    }
   ],
   "source": [
    "# 16 shows not smooth enough\n",
    "#experiment = experiment_folders[0]\n",
    "#experiment_path = f'{path}/{experiment}'\n",
    "#experiment_path = f'{path}/incident1_257'\n",
    "experiment_path = path\n",
    "print(experiment_path)\n",
    "#os.listdir(experiment_path)\n",
    "\n",
    "with open(f'{experiment_path}/incident_settings.json') as f:\n",
    "    incident_settings = json.load(f)\n",
    "print(incident_settings)\n",
    "\n",
    "incident_edge = incident_settings['edge']\n",
    "i_edge_obj = net.getEdge(incident_edge)\n",
    "\n",
    "hours, minutes, seconds = convert_seconds_to_24h(incident_settings['start_time'])\n",
    "print(f'Incident at {hours}:{minutes}:{seconds}')\n",
    "\n"
   ]
  },
  {
   "cell_type": "code",
   "execution_count": 10,
   "id": "08c9e985-254e-4804-a852-774350cbacf2",
   "metadata": {},
   "outputs": [],
   "source": [
    "edge_to_level_dict, upstream_edges, downstream_edges, relevant_edges = get_up_and_down_stream(i_edge_obj=i_edge_obj,\n",
    "                                                                                              n_up=40,\n",
    "                                                                                              n_down=40)"
   ]
  },
  {
   "cell_type": "code",
   "execution_count": 16,
   "id": "b0e848a0-22ab-4310-973b-0396eaa0283f",
   "metadata": {},
   "outputs": [],
   "source": []
  },
  {
   "cell_type": "code",
   "execution_count": 34,
   "id": "08580a46-b6e1-4488-a676-8c72f744a2d9",
   "metadata": {},
   "outputs": [
    {
     "data": {
      "text/plain": [
       "79921.0"
      ]
     },
     "execution_count": 34,
     "metadata": {},
     "output_type": "execute_result"
    }
   ],
   "source": []
  },
  {
   "cell_type": "code",
   "execution_count": 52,
   "id": "c7b32502-ca5a-487e-a6b5-5205635ad16b",
   "metadata": {},
   "outputs": [],
   "source": [
    "inter_lim = 2\n",
    "inci_df = pd.read_csv(f'{experiment_path}/detectordata.csv', sep=';')\n",
    "counter_df = pd.read_csv(f'{experiment_path}/detectordata_counterfactual.csv', sep=';')\n",
    "\n",
    "min_inci_time = inci_df.interval_begin.min()\n",
    "max_inci_time = inci_df.interval_begin.max()\n",
    "min_counter_time = counter_df.interval_begin.min()\n",
    "max_counter_time = counter_df.interval_begin.max()\n",
    "min_time = np.max([min_inci_time, min_counter_time])\n",
    "max_time = np.min([max_inci_time, max_counter_time])\n",
    "counter_df = counter_df.loc[counter_df.interval_begin.between(min_time,max_time)]\n",
    "inci_df = inci_df.loc[inci_df.interval_begin.between(min_time,max_time)]\n",
    "\n",
    "\n",
    "inci_data, time_sequence = transform_df_to_tensor(inci_df, interpolation_lim=inter_lim, warmup=10)\n",
    "counter_data, time_seqence2 = transform_df_to_tensor(counter_df, interpolation_lim=inter_lim, warmup=10)"
   ]
  },
  {
   "cell_type": "code",
   "execution_count": 58,
   "id": "e3e3a96d-ab6f-4e58-a22a-3077d298562a",
   "metadata": {},
   "outputs": [
    {
     "ename": "ValueError",
     "evalue": "cannot reshape array of size 92610 into shape (231)",
     "output_type": "error",
     "traceback": [
      "\u001b[0;31m---------------------------------------------------------------------------\u001b[0m",
      "\u001b[0;31mValueError\u001b[0m                                Traceback (most recent call last)",
      "Input \u001b[0;32mIn [58]\u001b[0m, in \u001b[0;36m<cell line: 32>\u001b[0;34m()\u001b[0m\n\u001b[1;32m     29\u001b[0m affect_bool_arr \u001b[38;5;241m=\u001b[39m (residual_speed\u001b[38;5;241m.\u001b[39mtranspose(\u001b[38;5;241m2\u001b[39m,\u001b[38;5;241m0\u001b[39m,\u001b[38;5;241m1\u001b[39m) \u001b[38;5;241m<\u001b[39m std_lim \u001b[38;5;241m*\u001b[39m \u001b[38;5;241m-\u001b[39mlane_stds)\n\u001b[1;32m     31\u001b[0m \u001b[38;5;66;03m# reshape for finding consecutive subsequences -> [E*L, T]\u001b[39;00m\n\u001b[0;32m---> 32\u001b[0m arr \u001b[38;5;241m=\u001b[39m \u001b[43maffect_bool_arr\u001b[49m\u001b[38;5;241;43m.\u001b[39;49m\u001b[43mtranspose\u001b[49m\u001b[43m(\u001b[49m\u001b[38;5;241;43m1\u001b[39;49m\u001b[43m,\u001b[49m\u001b[38;5;241;43m2\u001b[39;49m\u001b[43m,\u001b[49m\u001b[38;5;241;43m0\u001b[39;49m\u001b[43m)\u001b[49m\u001b[38;5;241;43m.\u001b[39;49m\u001b[43mreshape\u001b[49m\u001b[43m(\u001b[49m\u001b[38;5;241;43m-\u001b[39;49m\u001b[38;5;241;43m1\u001b[39;49m\u001b[43m,\u001b[49m\u001b[43m \u001b[49m\u001b[38;5;241;43m231\u001b[39;49m\u001b[43m)\u001b[49m\n\u001b[1;32m     34\u001b[0m \u001b[38;5;66;03m# Find longest subsequences\u001b[39;00m\n\u001b[1;32m     35\u001b[0m longest_affect_idxs, longest_affect_lengths \u001b[38;5;241m=\u001b[39m \u001b[38;5;28mzip\u001b[39m(\u001b[38;5;241m*\u001b[39m[idxs_of_longest_seq(row) \u001b[38;5;28;01mfor\u001b[39;00m row \u001b[38;5;129;01min\u001b[39;00m arr])\n",
      "\u001b[0;31mValueError\u001b[0m: cannot reshape array of size 92610 into shape (231)"
     ]
    }
   ],
   "source": [
    "\n",
    "\n",
    "\n",
    "# Get dicts to go from edge id to idx\n",
    "ind_to_edge, edge_to_ind = get_index_to_edge_dicts(inci_df)\n",
    "\n",
    "# Create lists of up and downstream idxs\n",
    "upstream_edge_idxs = [edge_to_ind[edge] for edge in upstream_edges]\n",
    "downstream_edge_idxs = [edge_to_ind[edge] for edge in downstream_edges]\n",
    "\n",
    "# Mask out padded lanes\n",
    "lane_mask = ~(inci_data[...,1].mean(-1) == -1)\n",
    "\n",
    "# Mask out lanes that are not used during normal traffic\n",
    "unused_lanes_mask = ((counter_data[...,2].sum(2) > 0) & (counter_data[...,2].sum(2) < 300))\n",
    "inci_data[unused_lanes_mask] = -2\n",
    "counter_data[unused_lanes_mask] = -2\n",
    "\n",
    "# Create residual data\n",
    "residual_data = inci_data - counter_data[:, :, :,:]\n",
    "\n",
    "length_lim = 10\n",
    "std_lim = 1.95\n",
    "\n",
    "# Get normal condition lane STD\n",
    "lane_stds = counter_data[...,1].std(2)\n",
    "\n",
    "# Only look at speed\n",
    "residual_speed = residual_data[...,1]\n",
    "\n",
    "# Bool of affected lane at time steps [E, L ,T]\n",
    "affect_bool_arr = (residual_speed.transpose(2,0,1) < std_lim * -lane_stds)\n",
    "\n",
    "# reshape for finding consecutive subsequences -> [E*L, T]\n",
    "arr = affect_bool_arr.transpose(1,2,0).reshape(-1, 231)\n",
    "\n",
    "# Find longest subsequences\n",
    "longest_affect_idxs, longest_affect_lengths = zip(*[idxs_of_longest_seq(row) for row in arr])\n",
    "\n",
    "# Reshape back\n",
    "longest_affect_lengths = np.stack(longest_affect_lengths).reshape(147,6)\n",
    "longest_affect_idxs = np.stack(longest_affect_idxs).reshape(147,6,2)\n",
    "\n",
    "# Find edges where a lane has a subsequence longer than limit\n",
    "affected_edges = (longest_affect_lengths > length_lim).any(axis=1)\n",
    "edge_idxs = np.where(affected_edges)[0]\n",
    "affected_edges.sum()\n"
   ]
  },
  {
   "cell_type": "code",
   "execution_count": null,
   "id": "d80c9280-a2c7-4705-b057-845f2a6cf20f",
   "metadata": {},
   "outputs": [],
   "source": [
    "upstream_edges_arr = np.isin(np.arange(147), upstream_edge_idxs)\n",
    "affected_us_mask = (upstream_edges_arr * affected_edges)\n",
    "\n",
    "affected_upstream_edge_idxs = np.where(affected_us_mask)[0]\n",
    "\n",
    "affected_us_mask.sum()\n"
   ]
  },
  {
   "cell_type": "code",
   "execution_count": null,
   "id": "b36eef39-9d92-480e-95c3-cc24fc9cfc50",
   "metadata": {},
   "outputs": [],
   "source": [
    "residual_speed.shape"
   ]
  },
  {
   "cell_type": "code",
   "execution_count": null,
   "id": "64fa68e9-01b7-4122-abff-cab4a4013a6b",
   "metadata": {},
   "outputs": [],
   "source": [
    "lane_stds.shape"
   ]
  },
  {
   "cell_type": "code",
   "execution_count": null,
   "id": "19aeb5a0-0be6-4f97-95a5-a12754214c6b",
   "metadata": {},
   "outputs": [],
   "source": [
    "length_lim_2 = 1\n",
    "std_lim_2 = 0.5\n",
    "\n",
    "# Bool of affected lane at time steps [E, L ,T]\n",
    "affect_bool_arr_2 = (residual_speed.transpose(2,0,1) < std_lim_2 * -lane_stds)\n",
    "\n",
    "# reshape for finding consecutive subsequences -> [E*L, T]\n",
    "arr_2 = affect_bool_arr_2.transpose(1,2,0).reshape(-1, 231)\n",
    "\n",
    "# Find longest subsequences\n",
    "longest_affect_idxs_2, longest_affect_lengths_2 = zip(*[idxs_of_longest_seq(row) for row in arr_2])\n",
    "\n",
    "# Reshape back\n",
    "longest_affect_lengths_2 = np.stack(longest_affect_lengths_2).reshape(147,6)\n",
    "longest_affect_idxs_2 = np.stack(longest_affect_idxs_2).reshape(147,6,2)\n",
    "\n",
    "# Find edges where a lane has a subsequence longer than limit\n",
    "affected_edges_2 = (longest_affect_lengths_2 > length_lim).any(axis=1)\n",
    "edge_idxs_2 = np.where(affected_edges_2)[0]\n",
    "affected_edges_2.sum()\n",
    "\n",
    "# Take out start and end idxs\n",
    "cong_start_idxs = longest_affect_idxs_2[...,0]\n",
    "cong_end_idxs = longest_affect_idxs_2[...,1]\n",
    "\n",
    "# Fill in fillers for the idxs that does not correspond to a long enough sequence\n",
    "cong_start_idxs[(longest_affect_lengths < length_lim)] = np.inf\n",
    "cong_end_idxs[(longest_affect_lengths < length_lim)] = -np.inf\n",
    "\n",
    "# For each edge take the earliest start and latest end. \n",
    "cong_start_time = cong_start_idxs.min(1)\n",
    "cong_end_time = cong_end_idxs.max(1)\n",
    "\n",
    "# Mask out unaffected edges\n",
    "cong_start_time[~affected_us_mask] = 0\n",
    "cong_end_time[~affected_us_mask] = 0\n",
    "\n",
    "# Calculate the max speed decrease\n",
    "delta_speeds = np.zeros((147))\n",
    "for edge in affected_upstream_edge_idxs:\n",
    "    start_time = int(cong_start_time[edge])\n",
    "    end_time = int(cong_end_time[edge])\n",
    "    #counter_mean_speed = counter_data[edge, lane_mask[edge], start_time:end_time, 2].mean(-1)\n",
    "    #inci_mean_speed = inci_data[edge, lane_mask[edge], start_time:end_time, 2].mean(-1)\n",
    "    #delta_speeds[edge, lane_mask[edge]] = counter_mean_speed - inci_mean_speed\n",
    "    delta_speeds[edge] = residual_speed[edge, lane_mask[edge], start_time:end_time].min()\n",
    "    \n",
    "secs_in_day = 24 * 60 * 60\n",
    "\n",
    "\n",
    "trig_time = np.array([trig_transform(seconds, secs_in_day) for seconds in time_sequence])"
   ]
  },
  {
   "cell_type": "code",
   "execution_count": null,
   "id": "5f6bbed1-cee3-4ea2-b1a3-e5a2b51c9ba8",
   "metadata": {},
   "outputs": [],
   "source": [
    "incident_time = np.where(time_sequence == incident_settings['start_time'])[0].item()\n",
    "input_traffic_data = inci_data[:,:,:incident_time, :]\n",
    "input_time = np.expand_dims(trig_time[:input_traffic_data.shape[2]], axis=(0,1))\n",
    "input_time = np.repeat(input_time, input_traffic_data.shape[0], axis=0)\n",
    "input_time = np.repeat(input_time, input_traffic_data.shape[1], axis=1)\n",
    "input_data = np.concatenate([input_traffic_data, input_time], axis=-1)\n",
    "\n",
    "target_data = np.stack([affected_us_mask, cong_start_time, cong_end_time, delta_speeds], axis=-1)"
   ]
  },
  {
   "cell_type": "code",
   "execution_count": null,
   "id": "a0c02671-d811-49f6-b7ee-cad67b09c9b5",
   "metadata": {},
   "outputs": [],
   "source": [
    "inci_data.shape"
   ]
  },
  {
   "cell_type": "code",
   "execution_count": null,
   "id": "b2f941d8-c55a-4303-9ca5-3d27c40f3051",
   "metadata": {},
   "outputs": [],
   "source": [
    "input_data.shape"
   ]
  },
  {
   "cell_type": "code",
   "execution_count": null,
   "id": "e41379d4-20be-4a0e-a60d-04255625927d",
   "metadata": {},
   "outputs": [],
   "source": [
    "target_data.shape"
   ]
  },
  {
   "cell_type": "code",
   "execution_count": null,
   "id": "da026811-6fd7-40fd-aa56-fd700014e0ac",
   "metadata": {},
   "outputs": [],
   "source": [
    "input_data2, target_data2, longest_affect_lengths2, longest_affect_idxs2 = infer_incident_data(experiment_path, scenario='motorway')\n"
   ]
  },
  {
   "cell_type": "code",
   "execution_count": null,
   "id": "17fd6fc4-0794-40a3-868c-dc25efe84ea9",
   "metadata": {},
   "outputs": [],
   "source": [
    "longest_affect_lengths_2 - longest_affect_lengths2"
   ]
  },
  {
   "cell_type": "code",
   "execution_count": null,
   "id": "4d8cf097-b069-477c-bf96-c493561a8d46",
   "metadata": {},
   "outputs": [],
   "source": [
    "(input_data - input_data2).sum()"
   ]
  },
  {
   "cell_type": "code",
   "execution_count": null,
   "id": "92060938-9466-4d7a-ac5f-2e41b7455233",
   "metadata": {},
   "outputs": [],
   "source": [
    "np.where(target_data - target_data2 != 0)"
   ]
  },
  {
   "cell_type": "code",
   "execution_count": null,
   "id": "1637bf7f-2b90-4361-b335-56396709658c",
   "metadata": {},
   "outputs": [],
   "source": [
    "target_data[75]"
   ]
  },
  {
   "cell_type": "code",
   "execution_count": null,
   "id": "c0f577eb-fae8-4cff-a7de-193f1794eebb",
   "metadata": {},
   "outputs": [],
   "source": [
    "target_data2[75]"
   ]
  },
  {
   "cell_type": "code",
   "execution_count": null,
   "id": "b8503f8b-2798-4c26-b3af-b007beab19c8",
   "metadata": {},
   "outputs": [],
   "source": [
    "(target_data - target_data2)[75]"
   ]
  },
  {
   "cell_type": "code",
   "execution_count": null,
   "id": "12f70001-92e3-41ae-bf38-ee82433b063f",
   "metadata": {},
   "outputs": [],
   "source": []
  }
 ],
 "metadata": {
  "kernelspec": {
   "display_name": "Python 3 (ipykernel)",
   "language": "python",
   "name": "python3"
  },
  "language_info": {
   "codemirror_mode": {
    "name": "ipython",
    "version": 3
   },
   "file_extension": ".py",
   "mimetype": "text/x-python",
   "name": "python",
   "nbconvert_exporter": "python",
   "pygments_lexer": "ipython3",
   "version": "3.8.10"
  }
 },
 "nbformat": 4,
 "nbformat_minor": 5
}
