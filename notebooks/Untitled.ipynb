{
 "cells": [
  {
   "cell_type": "markdown",
   "id": "7fe72f0d-24d0-46eb-a4f1-f5c2126baa94",
   "metadata": {},
   "source": [
    "# Make detector file"
   ]
  },
  {
   "cell_type": "markdown",
   "id": "96667378-2558-4bfa-b3e5-308dbf6d0a4b",
   "metadata": {},
   "source": [
    "## init stuff"
   ]
  },
  {
   "cell_type": "code",
   "execution_count": 1,
   "id": "8fae68d6-16c2-48a9-b9d8-05e8c36b4111",
   "metadata": {},
   "outputs": [],
   "source": [
    "%load_ext autoreload\n",
    "%autoreload 2"
   ]
  },
  {
   "cell_type": "code",
   "execution_count": 2,
   "id": "f880153b-5994-4ec6-b61f-ceac0a2aba15",
   "metadata": {},
   "outputs": [],
   "source": [
    "import sys\n",
    "sys.path.append('..')"
   ]
  },
  {
   "cell_type": "code",
   "execution_count": 3,
   "id": "62ddf644-d370-4238-b9b5-58297b0b593f",
   "metadata": {},
   "outputs": [],
   "source": [
    "#import glob\n",
    "#from result_utils.results_utils import xml2csv_path\n",
    "#import pandas as pd\n",
    "#import matplotlib.pyplot as plt\n",
    "#import json\n",
    "#import numpy as np"
   ]
  },
  {
   "cell_type": "code",
   "execution_count": 14,
   "id": "8239b587-967b-456d-b33d-92ddee1d47a2",
   "metadata": {},
   "outputs": [],
   "source": [
    "import os\n",
    "import sumolib\n",
    "import xml.etree.ElementTree as ET\n",
    "import xml"
   ]
  },
  {
   "cell_type": "code",
   "execution_count": 15,
   "id": "72a8c103-314f-406e-b3b0-c626276b0f37",
   "metadata": {},
   "outputs": [],
   "source": [
    "scenario = 'motorway'\n",
    "path = f'../{scenario}/Results'\n"
   ]
  },
  {
   "cell_type": "markdown",
   "id": "9456adf2-fcc8-48c1-b99a-aa6846956ffe",
   "metadata": {},
   "source": [
    "# Load incident and net"
   ]
  },
  {
   "cell_type": "code",
   "execution_count": 16,
   "id": "9b662894-5eb6-45a6-bedf-ef2025917c00",
   "metadata": {},
   "outputs": [],
   "source": [
    "#net_path = '../experiment/Simulations/Base/traci_exp.net.xml'\n",
    "net_path = '../motorway/Simulations/Base/network.net.xml'\n",
    "detector_path = '../motorway/Simulations/Base/detectors.add.xml'\n",
    "net = sumolib.net.readNet(net_path)"
   ]
  },
  {
   "cell_type": "code",
   "execution_count": 17,
   "id": "19a35102-2dd3-4865-858b-f76eff7d38f7",
   "metadata": {},
   "outputs": [],
   "source": [
    "edges = net.getEdges()"
   ]
  },
  {
   "cell_type": "code",
   "execution_count": 18,
   "id": "28f8cf98-fb0d-46be-ab90-c32b9699203c",
   "metadata": {},
   "outputs": [
    {
     "data": {
      "text/plain": [
       "<edge id=\"106130759\" from=\"12120756\" to=\"gneJ24\"/>"
      ]
     },
     "execution_count": 18,
     "metadata": {},
     "output_type": "execute_result"
    }
   ],
   "source": [
    "edges[0]"
   ]
  },
  {
   "cell_type": "code",
   "execution_count": 19,
   "id": "db2bf592-a4b4-4780-b99f-78b9cfed614f",
   "metadata": {},
   "outputs": [],
   "source": [
    "lanes = edges[0].getLanes()"
   ]
  },
  {
   "cell_type": "code",
   "execution_count": 20,
   "id": "f00c33f5-d9c5-4d5a-8f5b-5fa903080c2a",
   "metadata": {},
   "outputs": [
    {
     "data": {
      "text/plain": [
       "<sumolib.net.lane.Lane at 0x7f8357cac940>"
      ]
     },
     "execution_count": 20,
     "metadata": {},
     "output_type": "execute_result"
    }
   ],
   "source": [
    "lanes[0]"
   ]
  },
  {
   "cell_type": "code",
   "execution_count": 21,
   "id": "8e463886-455b-4d37-bb79-e98b7aa6adb4",
   "metadata": {},
   "outputs": [
    {
     "data": {
      "text/plain": [
       "'106130759_0'"
      ]
     },
     "execution_count": 21,
     "metadata": {},
     "output_type": "execute_result"
    }
   ],
   "source": [
    "lanes[0].getID()"
   ]
  },
  {
   "cell_type": "code",
   "execution_count": 22,
   "id": "a3b7c9f9-dba4-49fa-986b-52c6c30ca8db",
   "metadata": {},
   "outputs": [
    {
     "data": {
      "text/plain": [
       "'395.94'"
      ]
     },
     "execution_count": 22,
     "metadata": {},
     "output_type": "execute_result"
    }
   ],
   "source": [
    "f'{lanes[0].getLength() / 2:.2f}'"
   ]
  },
  {
   "cell_type": "code",
   "execution_count": null,
   "id": "1d2e75ef-2bcc-4ff5-b101-86a88b24857e",
   "metadata": {},
   "outputs": [],
   "source": []
  },
  {
   "cell_type": "code",
   "execution_count": 26,
   "id": "170b2323-7e32-449d-a952-2fa92a20baa0",
   "metadata": {},
   "outputs": [],
   "source": [
    "xml_tree = ET.parse(detector_path)    \n",
    "xml_root = xml_tree.getroot()\n"
   ]
  },
  {
   "cell_type": "code",
   "execution_count": null,
   "id": "42210719-daaa-416a-a516-72900a88dc4a",
   "metadata": {},
   "outputs": [],
   "source": []
  },
  {
   "cell_type": "code",
   "execution_count": 27,
   "id": "8456d5bb-0475-449b-a197-b962f22bfe4d",
   "metadata": {},
   "outputs": [],
   "source": [
    "for edge in edges:\n",
    "    for lane in edge.getLanes():\n",
    "        lane_length = lane.getLength()\n",
    "        lane_id = lane.getID()\n",
    "        \n",
    "        child = ET.Element(\"e1Detector\")\n",
    "        child.set('id', f'e1_{lane_id}')\n",
    "        child.set('lane', lane_id)\n",
    "        child.set('pos', f'{(lane_length / 2):.2f}')\n",
    "        child.set('period', '300.00')\n",
    "        child.set('file', 'detector_data.xml')\n",
    "        \n",
    "        xml_root.append(child)"
   ]
  },
  {
   "cell_type": "code",
   "execution_count": 28,
   "id": "43935625-91f0-4a66-a7d9-556e4a1e52b4",
   "metadata": {},
   "outputs": [],
   "source": [
    "xml_tree.write(detector_path)"
   ]
  },
  {
   "cell_type": "code",
   "execution_count": null,
   "id": "0db928a5-75e8-4e73-8d41-649a584ab566",
   "metadata": {},
   "outputs": [],
   "source": []
  },
  {
   "cell_type": "code",
   "execution_count": null,
   "id": "354859f8-e0f2-4f25-8d78-136ac9cd2530",
   "metadata": {},
   "outputs": [],
   "source": []
  }
 ],
 "metadata": {
  "kernelspec": {
   "display_name": "Python 3 (ipykernel)",
   "language": "python",
   "name": "python3"
  },
  "language_info": {
   "codemirror_mode": {
    "name": "ipython",
    "version": 3
   },
   "file_extension": ".py",
   "mimetype": "text/x-python",
   "name": "python",
   "nbconvert_exporter": "python",
   "pygments_lexer": "ipython3",
   "version": "3.8.10"
  }
 },
 "nbformat": 4,
 "nbformat_minor": 5
}
