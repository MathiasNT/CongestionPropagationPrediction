{
 "cells": [
  {
   "cell_type": "code",
   "execution_count": 1,
   "metadata": {},
   "outputs": [],
   "source": [
    "%load_ext autoreload\n",
    "%autoreload 2"
   ]
  },
  {
   "cell_type": "code",
   "execution_count": 2,
   "metadata": {},
   "outputs": [],
   "source": [
    "import sys\n",
    "import numpy as np\n",
    "import torch"
   ]
  },
  {
   "cell_type": "code",
   "execution_count": 10,
   "metadata": {},
   "outputs": [],
   "source": [
    "\n",
    "sys.path.append('../..')\n",
    "from util_folder.ml_utils.data_utils.data_loader_utils import IncidentDataModule, RWIncidentDataModule"
   ]
  },
  {
   "cell_type": "code",
   "execution_count": 4,
   "metadata": {},
   "outputs": [],
   "source": [
    "long_data = np.load('../../Simulation_scenarios/motorway/Results/incident_large/long_input_data.npy')"
   ]
  },
  {
   "cell_type": "code",
   "execution_count": 5,
   "metadata": {},
   "outputs": [],
   "source": [
    "used_data = np.load('/home/manity/Quick_adap/quick_adap_to_incidents/Simulation_scenarios/motorway/Results/incident_large/input_data.npy')"
   ]
  },
  {
   "cell_type": "code",
   "execution_count": 6,
   "metadata": {},
   "outputs": [
    {
     "name": "stdout",
     "output_type": "stream",
     "text": [
      "*** DATA SUMMARY: ***\n",
      "input_obs_full.shape=torch.Size([10270, 147, 6, 10, 3]) from 5 to 15\n",
      "input_time_full.shape=torch.Size([10270, 147, 6, 10, 2])\n",
      "target_full.shape=torch.Size([10270, 147, 4])\n",
      "incident_info_full.shape=torch.Size([10270, 4])\n",
      "network_info_full.shape=torch.Size([10270, 147, 13])\n",
      "\n",
      "train size 6162\n",
      "val size 2054\n",
      "test size 2054\n"
     ]
    }
   ],
   "source": [
    "\n",
    "folder_path = \"/home/manity/Quick_adap/quick_adap_to_incidents/Simulation_scenarios/motorway/Results/incident_large\"\n",
    "transform = \"none\"\n",
    "datamodule = IncidentDataModule(folder_path=folder_path,\n",
    "                                transform=transform,\n",
    "                                spatial_test=False,\n",
    "                                sliding_steps=5)\n",
    "\n",
    "datamodule.setup()"
   ]
  },
  {
   "cell_type": "code",
   "execution_count": 7,
   "metadata": {},
   "outputs": [
    {
     "data": {
      "text/plain": [
       "tensor([ 5.5700,  8.6600,  7.2700,  7.3600,  8.9000,  6.6600,  8.7000,  7.7300,\n",
       "         8.1400, 13.4700])"
      ]
     },
     "execution_count": 7,
     "metadata": {},
     "output_type": "execute_result"
    }
   ],
   "source": [
    "datamodule.train_dataloader().dataset.input_obs_data[0,0, 0,:,0]"
   ]
  },
  {
   "cell_type": "code",
   "execution_count": 14,
   "metadata": {},
   "outputs": [
    {
     "name": "stdout",
     "output_type": "stream",
     "text": [
      "*** DATA SUMMARY: ***\n",
      "input_obs_full.shape=torch.Size([1024, 215, 1, 12, 3])\n",
      "input_time_full.shape=torch.Size([1024, 215, 1, 12, 4])\n",
      "target_full.shape=torch.Size([1024, 215, 4])\n",
      "incident_info_full.shape=torch.Size([1024, 4])\n",
      "network_info_full.shape=torch.Size([1024, 215, 1])\n",
      "\n",
      "train size 616\n",
      "val size 204\n",
      "test size 204\n"
     ]
    }
   ],
   "source": [
    "\n",
    "folder_path = \"/home/manity/Quick_adap/quick_adap_to_incidents/pems_data\"\n",
    "transform = \"none\"\n",
    "datamodule = RWIncidentDataModule(folder_path=folder_path,\n",
    "                                transform=transform,\n",
    "                                spatial_test=False,\n",
    "                                )\n",
    "\n",
    "datamodule.setup()"
   ]
  },
  {
   "cell_type": "code",
   "execution_count": null,
   "metadata": {},
   "outputs": [],
   "source": []
  }
 ],
 "metadata": {
  "kernelspec": {
   "display_name": "env_quick",
   "language": "python",
   "name": "python3"
  },
  "language_info": {
   "codemirror_mode": {
    "name": "ipython",
    "version": 3
   },
   "file_extension": ".py",
   "mimetype": "text/x-python",
   "name": "python",
   "nbconvert_exporter": "python",
   "pygments_lexer": "ipython3",
   "version": "3.8.10"
  },
  "orig_nbformat": 4,
  "vscode": {
   "interpreter": {
    "hash": "a98148271ae12b089ac623782357ec53fcf3ff4b348e20d09619b786609516cc"
   }
  }
 },
 "nbformat": 4,
 "nbformat_minor": 2
}
