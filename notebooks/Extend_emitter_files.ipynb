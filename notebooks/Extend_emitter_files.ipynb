{
 "cells": [
  {
   "cell_type": "markdown",
   "id": "c8e25514-305b-4bc8-a4be-826618b3b57d",
   "metadata": {},
   "source": [
    "# Extending emitter files\n",
    "This notebook extend emitter files for the *motorway* scenario. Can easily be used for other scenarios with fixed emitter files"
   ]
  },
  {
   "cell_type": "code",
   "execution_count": 1,
   "id": "7d14d50b-1c5a-427a-8665-dec61d9882a7",
   "metadata": {},
   "outputs": [],
   "source": [
    "import xml.etree.ElementTree as ET"
   ]
  },
  {
   "cell_type": "code",
   "execution_count": 2,
   "id": "c7c0538c-2027-459a-b6ed-9c1343ceb34d",
   "metadata": {},
   "outputs": [],
   "source": [
    "motorway_emitters = '../motorway/Simulations/Base/M50_emitters.emi.xml'\n",
    "\n",
    "\n",
    "extended_motorway_emitters = '../motorway/Simulations/Base/extended_emitters.emi.xml'"
   ]
  },
  {
   "cell_type": "code",
   "execution_count": 3,
   "id": "27114839-c86b-49ec-b1aa-adc30742547d",
   "metadata": {},
   "outputs": [],
   "source": [
    "xml_tree = ET.parse(motorway_emitters)\n",
    "xml_root = xml_tree.getroot()"
   ]
  },
  {
   "cell_type": "code",
   "execution_count": 4,
   "id": "e7f6f18c-5de8-45ce-ad82-5d8c67970817",
   "metadata": {},
   "outputs": [
    {
     "name": "stdout",
     "output_type": "stream",
     "text": [
      "21600\n"
     ]
    }
   ],
   "source": [
    "n_steps_to_extend = 6 * 60 * 60\n",
    "print(n_steps_to_extend)"
   ]
  },
  {
   "cell_type": "code",
   "execution_count": 5,
   "id": "3489a171-1264-4fd1-91bc-73004cdca42a",
   "metadata": {},
   "outputs": [],
   "source": [
    "vehicles_to_copy = []\n",
    "for i, child in enumerate(xml_root[2:]):\n",
    "    if child.tag == 'vehicle':\n",
    "        if float(child.attrib['depart']) < n_steps_to_extend:\n",
    "            vehicles_to_copy.append(child)\n",
    "    "
   ]
  },
  {
   "cell_type": "code",
   "execution_count": 6,
   "id": "9774d011-e873-462b-9901-6959a64d23ce",
   "metadata": {},
   "outputs": [
    {
     "data": {
      "text/plain": [
       "14380"
      ]
     },
     "execution_count": 6,
     "metadata": {},
     "output_type": "execute_result"
    }
   ],
   "source": [
    "len(vehicles_to_copy)"
   ]
  },
  {
   "cell_type": "code",
   "execution_count": 7,
   "id": "c21330fb-75c2-4bb6-b135-fd52601a2c1a",
   "metadata": {},
   "outputs": [
    {
     "data": {
      "text/plain": [
       "346310"
      ]
     },
     "execution_count": 7,
     "metadata": {},
     "output_type": "execute_result"
    }
   ],
   "source": [
    "len(xml_root)"
   ]
  },
  {
   "cell_type": "code",
   "execution_count": 8,
   "id": "d4c4d345-0ed3-4844-ab70-5415c1bf89c1",
   "metadata": {},
   "outputs": [],
   "source": [
    "tag = 'vehicle'\n",
    "for veh in vehicles_to_copy:\n",
    "    attrib_dict = veh.attrib.copy()\n",
    "    attrib_dict['depart'] = str(float(attrib_dict['depart']) + 86400)\n",
    "    ET.SubElement(xml_root, tag, attrib_dict)\n",
    "    "
   ]
  },
  {
   "cell_type": "code",
   "execution_count": 9,
   "id": "eb697c5b-3109-4523-9a91-9bfb37a05403",
   "metadata": {},
   "outputs": [
    {
     "data": {
      "text/plain": [
       "360690"
      ]
     },
     "execution_count": 9,
     "metadata": {},
     "output_type": "execute_result"
    }
   ],
   "source": [
    "len(xml_root)"
   ]
  },
  {
   "cell_type": "code",
   "execution_count": 10,
   "id": "2bc949e1-579c-428e-b445-abcbd8e41231",
   "metadata": {},
   "outputs": [],
   "source": [
    "xml_tree.write(extended_motorway_emitters)"
   ]
  },
  {
   "cell_type": "code",
   "execution_count": 11,
   "id": "34f3875a-2f86-4fd1-9997-0a6f3fd94bf7",
   "metadata": {},
   "outputs": [],
   "source": [
    "xml_tree2 = ET.parse(extended_motorway_emitters)\n",
    "xml_root2 = xml_tree2.getroot()"
   ]
  },
  {
   "cell_type": "code",
   "execution_count": 12,
   "id": "9a7f9f1c-481d-4c3a-b9fe-79546b442cdd",
   "metadata": {},
   "outputs": [
    {
     "data": {
      "text/plain": [
       "360690"
      ]
     },
     "execution_count": 12,
     "metadata": {},
     "output_type": "execute_result"
    }
   ],
   "source": [
    "len(xml_root2)"
   ]
  },
  {
   "cell_type": "code",
   "execution_count": 13,
   "id": "9b7be766-d472-42f2-94c8-76e6a06f015f",
   "metadata": {},
   "outputs": [],
   "source": [
    "xml_tree3 = ET.parse(motorway_emitters)\n",
    "xml_root3 = xml_tree3.getroot()"
   ]
  },
  {
   "cell_type": "code",
   "execution_count": 14,
   "id": "b9ea6b98-ecf0-48c8-af0e-5782e61ed7bf",
   "metadata": {},
   "outputs": [
    {
     "data": {
      "text/plain": [
       "346310"
      ]
     },
     "execution_count": 14,
     "metadata": {},
     "output_type": "execute_result"
    }
   ],
   "source": [
    "len(xml_root3)"
   ]
  },
  {
   "cell_type": "code",
   "execution_count": null,
   "id": "bb7965d4-7556-4d35-8e5d-d2d00c6e0960",
   "metadata": {},
   "outputs": [],
   "source": []
  }
 ],
 "metadata": {
  "kernelspec": {
   "display_name": "Python 3.8.10 ('env_quick')",
   "language": "python",
   "name": "python3"
  },
  "language_info": {
   "codemirror_mode": {
    "name": "ipython",
    "version": 3
   },
   "file_extension": ".py",
   "mimetype": "text/x-python",
   "name": "python",
   "nbconvert_exporter": "python",
   "pygments_lexer": "ipython3",
   "version": "3.8.10"
  },
  "vscode": {
   "interpreter": {
    "hash": "a98148271ae12b089ac623782357ec53fcf3ff4b348e20d09619b786609516cc"
   }
  }
 },
 "nbformat": 4,
 "nbformat_minor": 5
}
