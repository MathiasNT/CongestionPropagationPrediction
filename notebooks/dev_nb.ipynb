{
 "cells": [
  {
   "cell_type": "markdown",
   "metadata": {},
   "source": [
    "# New Dataloader test"
   ]
  },
  {
   "cell_type": "code",
   "execution_count": 1,
   "metadata": {},
   "outputs": [],
   "source": [
    "import sys\n",
    "sys.path.append('..')"
   ]
  },
  {
   "cell_type": "code",
   "execution_count": 2,
   "metadata": {},
   "outputs": [],
   "source": [
    "from util_folder.ml_utils.data_utils.data_loader_utils import IncidentDataModule\n",
    "from util_folder.ml_utils.data_utils.data_loader_utils_old import IncidentDataModule as IncidentDataModule_old"
   ]
  },
  {
   "cell_type": "code",
   "execution_count": 3,
   "metadata": {},
   "outputs": [],
   "source": [
    "folder_path = f'../Simulation_scenarios/motorway/Results/incident_large'"
   ]
  },
  {
   "cell_type": "code",
   "execution_count": 4,
   "metadata": {},
   "outputs": [
    {
     "name": "stdout",
     "output_type": "stream",
     "text": [
      "*** DATA SUMMARY: ***\n",
      "input_obs_full.shape=torch.Size([10270, 147, 6, 10, 3])\n",
      "input_time_full.shape=torch.Size([10270, 147, 6, 10, 2])\n",
      "target_full.shape=torch.Size([10270, 147, 4])\n",
      "incident_info_full.shape=torch.Size([10270, 4])\n",
      "network_info_full.shape=torch.Size([10270, 147, 13])\n",
      "\n"
     ]
    }
   ],
   "source": [
    "new_incident_data_module = IncidentDataModule(folder_path = folder_path, transform='standardize', batch_size = 100)\n",
    "new_incident_data_module.setup()\n",
    "new_test_dataloader = new_incident_data_module.test_dataloader()"
   ]
  },
  {
   "cell_type": "code",
   "execution_count": 5,
   "metadata": {},
   "outputs": [
    {
     "name": "stdout",
     "output_type": "stream",
     "text": [
      "*** DATA SUMMARY: ***\n",
      "input_full.shape=torch.Size([10270, 147, 6, 10, 5])\n",
      "target_full.shape=torch.Size([10270, 147, 4])\n",
      "incident_info_full.shape=torch.Size([10270, 4])\n",
      "network_info_full.shape=torch.Size([10270, 147, 13])\n",
      "\n"
     ]
    }
   ],
   "source": [
    "old_incident_data_module = IncidentDataModule_old(folder_path = folder_path, batch_size = 100)\n",
    "old_incident_data_module.setup()\n",
    "old_test_dataloader = old_incident_data_module.test_dataloader()"
   ]
  },
  {
   "cell_type": "code",
   "execution_count": 9,
   "metadata": {},
   "outputs": [],
   "source": [
    "new =  new_test_dataloader.dataset.input_obs_data\n",
    "old = old_test_dataloader.dataset.input_data_obs\n",
    "diff = (new - old)\n"
   ]
  },
  {
   "cell_type": "code",
   "execution_count": 10,
   "metadata": {},
   "outputs": [
    {
     "data": {
      "text/plain": [
       "tensor(0.)"
      ]
     },
     "execution_count": 10,
     "metadata": {},
     "output_type": "execute_result"
    }
   ],
   "source": [
    "diff.sum()"
   ]
  },
  {
   "cell_type": "code",
   "execution_count": null,
   "metadata": {},
   "outputs": [],
   "source": []
  }
 ],
 "metadata": {
  "kernelspec": {
   "display_name": "Python 3.8.10 ('env_quick')",
   "language": "python",
   "name": "python3"
  },
  "language_info": {
   "codemirror_mode": {
    "name": "ipython",
    "version": 3
   },
   "file_extension": ".py",
   "mimetype": "text/x-python",
   "name": "python",
   "nbconvert_exporter": "python",
   "pygments_lexer": "ipython3",
   "version": "3.8.10"
  },
  "orig_nbformat": 4,
  "vscode": {
   "interpreter": {
    "hash": "a98148271ae12b089ac623782357ec53fcf3ff4b348e20d09619b786609516cc"
   }
  }
 },
 "nbformat": 4,
 "nbformat_minor": 2
}
