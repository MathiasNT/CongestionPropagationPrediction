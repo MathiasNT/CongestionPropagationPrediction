{
 "cells": [
  {
   "cell_type": "markdown",
   "id": "00ae293e-3b4e-4040-968a-1e2e44329f4c",
   "metadata": {},
   "source": [
    "# Preprocess ML data\n",
    "This notebooks generates a dataset for machine learning based on the result folders of SUMO simulations\n",
    "\n",
    "Note that the notebook cals *infer_incident_data*"
   ]
  },
  {
   "cell_type": "code",
   "execution_count": 1,
   "id": "648db7a5-1e6c-486f-b8b0-389fc2c095bf",
   "metadata": {},
   "outputs": [],
   "source": [
    "import sys\n",
    "sys.path.append('..')"
   ]
  },
  {
   "cell_type": "code",
   "execution_count": 4,
   "id": "89489bbc-2e45-4b67-9b95-115343a08360",
   "metadata": {},
   "outputs": [],
   "source": [
    "import os\n",
    "import glob\n",
    "import json\n",
    "import pandas as pd\n",
    "from tqdm import tqdm\n",
    "import numpy as np\n",
    "import shutil\n",
    "     \n",
    "from utils.preprocess_utils import infer_incident_data\n"
   ]
  },
  {
   "cell_type": "markdown",
   "id": "598db251-7821-4917-bd86-c8af853557c2",
   "metadata": {},
   "source": [
    "## Select experiment"
   ]
  },
  {
   "cell_type": "code",
   "execution_count": 38,
   "id": "b131836f-652e-47da-9587-e3aecee1f29d",
   "metadata": {},
   "outputs": [
    {
     "name": "stdout",
     "output_type": "stream",
     "text": [
      "1635 simulations\n"
     ]
    }
   ],
   "source": [
    "scenario = 'motorway'\n",
    "experiment_name = 'incident3'\n",
    "path = f'../{scenario}/Results/{experiment_name}'\n",
    "sim_path = f'../{scenario}/Results/{experiment_name}/simulations'\n",
    "scenario_folder = f'../{scenario}'\n",
    "\n",
    "result_folders = os.listdir(sim_path)\n",
    "print(f'{len(result_folders)} simulations')\n",
    "\n"
   ]
  },
  {
   "cell_type": "code",
   "execution_count": 4,
   "id": "e528f619-b717-447a-9152-8de545656c46",
   "metadata": {},
   "outputs": [],
   "source": [
    "simulation_folders = [folder for folder in result_folders if folder.startswith(experiment_name)]\n",
    "\n",
    "# Check for uncaught errors \n",
    "error_folders = []\n",
    "zero_folders = []\n",
    "for folder in simulation_folders:\n",
    "    folder_dir = os.listdir(f'{sim_path}/{folder}')\n",
    "    if len(folder_dir) != 11:\n",
    "        print(f'{folder} is missing files it has only {len(folder_dir)}')\n",
    "        if len(folder_dir) == 0:\n",
    "            zero_folders.append(folder)\n",
    "        else:\n",
    "            error_folders.append(folder)\n",
    "    \n",
    "    error_logs = [file for file in glob.glob(f'{sim_path}/{folder}/*.err')]\n",
    "    for log in error_logs:\n",
    "        with open(log, 'r') as read_obj:\n",
    "            one_char = read_obj.read(1)\n",
    "            if one_char:\n",
    "                print(f'{folder} has error in {log}')\n",
    "                error_folders.append(folder)\n",
    "                "
   ]
  },
  {
   "cell_type": "code",
   "execution_count": 5,
   "id": "dc1bad67-2b22-4723-8389-5ef68833e472",
   "metadata": {},
   "outputs": [],
   "source": [
    "for folder in zero_folders:\n",
    "    os.rmdir(f'{sim_path}/{folder}')"
   ]
  },
  {
   "cell_type": "code",
   "execution_count": 6,
   "id": "33df4857-5f7e-432a-811d-dbbd8e570e74",
   "metadata": {},
   "outputs": [],
   "source": [
    "error_path = f'../{scenario}/Results/{experiment_name}_error_sims'\n",
    "if not os.path.isdir(error_path):\n",
    "    os.mkdir(error_path)\n",
    "    \n",
    "for folder in error_folders:\n",
    "    shutil.move(f'{sim_path}/{folder}', f'{error_path}/{folder}')"
   ]
  },
  {
   "cell_type": "markdown",
   "id": "7577687e-e7ec-454e-962c-7796b4c31aa1",
   "metadata": {},
   "source": [
    "# Load data"
   ]
  },
  {
   "cell_type": "markdown",
   "id": "431fe140-cb50-4c05-9a14-8e6244806289",
   "metadata": {},
   "source": [
    "### Load simulation data"
   ]
  },
  {
   "cell_type": "code",
   "execution_count": 7,
   "id": "97982b6e-2058-47ac-82f6-bc41599b87fb",
   "metadata": {},
   "outputs": [
    {
     "name": "stderr",
     "output_type": "stream",
     "text": [
      "100%|████████████████████████████████████████████████████████████████| 10/10 [00:00<00:00, 15517.22it/s]\n"
     ]
    }
   ],
   "source": [
    "incident_settings_arr = []\n",
    "for simulation in tqdm(simulation_folders[:10]):\n",
    "    simulation_path = f'{sim_path}/{simulation}'\n",
    "    with open(f'{simulation_path}/incident_settings.json') as f:\n",
    "        incident_settings = json.load(f)\n",
    "        incident_settings_arr.append(incident_settings)\n",
    "    \n",
    "\n",
    "    "
   ]
  },
  {
   "cell_type": "code",
   "execution_count": 8,
   "id": "89829657-4735-4abe-acf2-7a85f79070f1",
   "metadata": {},
   "outputs": [],
   "source": [
    "from multiprocessing import Pool"
   ]
  },
  {
   "cell_type": "code",
   "execution_count": 29,
   "id": "68195a3e-7cd5-4f5e-8456-b3dcce05e56d",
   "metadata": {},
   "outputs": [],
   "source": [
    "simulation_paths = [f'{sim_path}/{simulation}' for simulation in simulation_folders]"
   ]
  },
  {
   "cell_type": "code",
   "execution_count": 30,
   "id": "db907301-a0b7-440a-95c6-90350b8d74d5",
   "metadata": {},
   "outputs": [
    {
     "name": "stderr",
     "output_type": "stream",
     "text": [
      "1627it [03:48,  7.13it/s]\n"
     ]
    }
   ],
   "source": [
    "with Pool(os.cpu_count() - 24) as pool:\n",
    "         returns = list(tqdm(pool.imap(infer_incident_data, simulation_paths)))"
   ]
  },
  {
   "cell_type": "code",
   "execution_count": 31,
   "id": "70a9b6ca-1214-46b9-b36d-ccbc1fe4e5fc",
   "metadata": {},
   "outputs": [],
   "source": [
    "input_data_arr = []\n",
    "target_data_arr = []\n",
    "incident_info_arr = []\n",
    "network_info_arr = []\n",
    "full_inci_data_arr = []\n",
    "counter_data_arr = []\n",
    "ind_to_edge_arr = []\n",
    "incident_settings_arr = []\n",
    "\n",
    "for results in returns:\n",
    "    if results[4].shape[2] == 231:\n",
    "        input_data_arr.append(results[0])\n",
    "        target_data_arr.append(results[1])\n",
    "        incident_info_arr.append(results[2])\n",
    "        network_info_arr.append(results[3])\n",
    "        full_inci_data_arr.append(results[4])\n",
    "        counter_data_arr.append(results[5])\n",
    "        ind_to_edge_arr.append(results[6])\n",
    "        incident_settings_arr.append(results[7])\n",
    "        \n",
    "input_data = np.array(input_data_arr)\n",
    "target_data = np.array(target_data_arr)\n",
    "incident_info = np.array(incident_info_arr)\n",
    "network_info = np.array(network_info_arr)\n",
    "full_inci_data = np.array(full_inci_data_arr)\n",
    "counter_data = np.array(counter_data_arr) \n",
    "incident_settings = np.array(incident_settings_arr)\n",
    "ind_to_edge = ind_to_edge_arr[0]"
   ]
  },
  {
   "cell_type": "code",
   "execution_count": 32,
   "id": "c4065880-ffe5-4d99-a6d9-44a61405c080",
   "metadata": {},
   "outputs": [
    {
     "name": "stdout",
     "output_type": "stream",
     "text": [
      "input data (1422, 147, 6, 10, 5)\n",
      "target data (1422, 147, 4)\n",
      "incident info (1422, 4)\n",
      "network info (1422, 147, 13)\n",
      "full inci data (1422, 147, 6, 231, 5)\n",
      "counter data (1422, 147, 6, 231, 3)\n",
      "ind_to_edge 147\n",
      "incident_settings 1422\n"
     ]
    }
   ],
   "source": [
    "print(f'input data {input_data.shape}')\n",
    "print(f'target data {target_data.shape}')\n",
    "print(f'incident info {incident_info.shape}')\n",
    "print(f'network info {network_info.shape}')\n",
    "print(f'full inci data {full_inci_data.shape}')\n",
    "print(f'counter data {counter_data.shape}')\n",
    "print(f'ind_to_edge {len(ind_to_edge)}')\n",
    "print(f'incident_settings {len(incident_settings)}')\n"
   ]
  },
  {
   "cell_type": "code",
   "execution_count": 40,
   "id": "811cf74c-a1a9-4546-b90f-8afbfe021172",
   "metadata": {},
   "outputs": [],
   "source": [
    "np.save(f'{path}/input_data.npy', input_data)\n",
    "np.save(f'{path}/target_data.npy', target_data)\n",
    "np.save(f'{path}/incident_info.npy', incident_info)\n",
    "np.save(f'{path}/network_info.npy', network_info)\n",
    "np.save(f'{path}/full_inci_data.npy', full_inci_data)\n",
    "np.save(f'{path}/counter_data.npy', counter_data)\n",
    "np.save(f'{path}/incident_settings.npy', incident_settings)\n",
    "with open(f'{path}/ind_to_edge.json', 'w') as fp:\n",
    "    json.dump(ind_to_edge_arr[0], fp)"
   ]
  },
  {
   "cell_type": "code",
   "execution_count": 43,
   "id": "71456bc3-b5ed-40be-a846-4543c65a04fa",
   "metadata": {},
   "outputs": [
    {
     "data": {
      "text/plain": [
       "['full_inci_data.npy',\n",
       " 'network_info.npy',\n",
       " 'ind_to_edge.json',\n",
       " 'inci_data.npy',\n",
       " 'simulations',\n",
       " 'incident_settings.npy',\n",
       " 'target_data.npy',\n",
       " 'input_data.npy',\n",
       " 'incident_info.npy',\n",
       " 'counter_data.npy']"
      ]
     },
     "execution_count": 43,
     "metadata": {},
     "output_type": "execute_result"
    }
   ],
   "source": [
    "os.listdir(f'{path}')"
   ]
  }
 ],
 "metadata": {
  "kernelspec": {
   "display_name": "Python 3.8.10 ('env_quick')",
   "language": "python",
   "name": "python3"
  },
  "language_info": {
   "codemirror_mode": {
    "name": "ipython",
    "version": 3
   },
   "file_extension": ".py",
   "mimetype": "text/x-python",
   "name": "python",
   "nbconvert_exporter": "python",
   "pygments_lexer": "ipython3",
   "version": "3.8.10"
  },
  "vscode": {
   "interpreter": {
    "hash": "a98148271ae12b089ac623782357ec53fcf3ff4b348e20d09619b786609516cc"
   }
  }
 },
 "nbformat": 4,
 "nbformat_minor": 5
}
